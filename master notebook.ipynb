{
 "cells": [
  {
   "cell_type": "markdown",
   "metadata": {},
   "source": [
    "# Import Libraries"
   ]
  },
  {
   "cell_type": "code",
   "execution_count": 19,
   "metadata": {},
   "outputs": [],
   "source": [
    "import numpy as np\n",
    "import pandas as pd\n",
    "import os\n",
    "from datetime import datetime, timedelta\n",
    "import matplotlib.pyplot as plt\n",
    "%matplotlib inline\n",
    "import yfinance as yf\n",
    "import seaborn as sns\n",
    "import ffn\n",
    "import bt\n"
   ]
  },
  {
   "cell_type": "markdown",
   "metadata": {},
   "source": [
    "# Variables Declaration"
   ]
  },
  {
   "cell_type": "markdown",
   "metadata": {},
   "source": [
    "# 1. User Input"
   ]
  },
  {
   "cell_type": "markdown",
   "metadata": {},
   "source": [
    "## Select Investment Style: Active/Passive"
   ]
  },
  {
   "cell_type": "markdown",
   "metadata": {},
   "source": [
    "# 2. Data Access and Cleaning"
   ]
  },
  {
   "cell_type": "markdown",
   "metadata": {},
   "source": [
    "## Download index for SPY and Factors ETF (Value, Momentum, Quality, Growth/High Dividend, Low Vol)"
   ]
  },
  {
   "cell_type": "code",
   "execution_count": 20,
   "metadata": {},
   "outputs": [
    {
     "name": "stdout",
     "output_type": "stream",
     "text": [
      "[*********************100%***********************]  8 of 8 completed\n"
     ]
    },
    {
     "data": {
      "text/html": [
       "<div>\n",
       "<style scoped>\n",
       "    .dataframe tbody tr th:only-of-type {\n",
       "        vertical-align: middle;\n",
       "    }\n",
       "\n",
       "    .dataframe tbody tr th {\n",
       "        vertical-align: top;\n",
       "    }\n",
       "\n",
       "    .dataframe thead tr th {\n",
       "        text-align: left;\n",
       "    }\n",
       "\n",
       "    .dataframe thead tr:last-of-type th {\n",
       "        text-align: right;\n",
       "    }\n",
       "</style>\n",
       "<table border=\"1\" class=\"dataframe\">\n",
       "  <thead>\n",
       "    <tr>\n",
       "      <th></th>\n",
       "      <th colspan=\"8\" halign=\"left\">Adj Close</th>\n",
       "      <th colspan=\"2\" halign=\"left\">Close</th>\n",
       "      <th>...</th>\n",
       "      <th colspan=\"2\" halign=\"left\">Open</th>\n",
       "      <th colspan=\"8\" halign=\"left\">Volume</th>\n",
       "    </tr>\n",
       "    <tr>\n",
       "      <th></th>\n",
       "      <th>FDL</th>\n",
       "      <th>IVE</th>\n",
       "      <th>IVW</th>\n",
       "      <th>MTUM</th>\n",
       "      <th>QUAL</th>\n",
       "      <th>SIZE</th>\n",
       "      <th>SPY</th>\n",
       "      <th>USMV</th>\n",
       "      <th>FDL</th>\n",
       "      <th>IVE</th>\n",
       "      <th>...</th>\n",
       "      <th>SPY</th>\n",
       "      <th>USMV</th>\n",
       "      <th>FDL</th>\n",
       "      <th>IVE</th>\n",
       "      <th>IVW</th>\n",
       "      <th>MTUM</th>\n",
       "      <th>QUAL</th>\n",
       "      <th>SIZE</th>\n",
       "      <th>SPY</th>\n",
       "      <th>USMV</th>\n",
       "    </tr>\n",
       "    <tr>\n",
       "      <th>Date</th>\n",
       "      <th></th>\n",
       "      <th></th>\n",
       "      <th></th>\n",
       "      <th></th>\n",
       "      <th></th>\n",
       "      <th></th>\n",
       "      <th></th>\n",
       "      <th></th>\n",
       "      <th></th>\n",
       "      <th></th>\n",
       "      <th></th>\n",
       "      <th></th>\n",
       "      <th></th>\n",
       "      <th></th>\n",
       "      <th></th>\n",
       "      <th></th>\n",
       "      <th></th>\n",
       "      <th></th>\n",
       "      <th></th>\n",
       "      <th></th>\n",
       "      <th></th>\n",
       "    </tr>\n",
       "  </thead>\n",
       "  <tbody>\n",
       "    <tr>\n",
       "      <th>2000-08-21</th>\n",
       "      <td>NaN</td>\n",
       "      <td>39.910778</td>\n",
       "      <td>68.398384</td>\n",
       "      <td>NaN</td>\n",
       "      <td>NaN</td>\n",
       "      <td>NaN</td>\n",
       "      <td>102.905678</td>\n",
       "      <td>NaN</td>\n",
       "      <td>NaN</td>\n",
       "      <td>62.81250</td>\n",
       "      <td>...</td>\n",
       "      <td>150.03125</td>\n",
       "      <td>NaN</td>\n",
       "      <td>NaN</td>\n",
       "      <td>29500</td>\n",
       "      <td>4900</td>\n",
       "      <td>NaN</td>\n",
       "      <td>NaN</td>\n",
       "      <td>NaN</td>\n",
       "      <td>2380600</td>\n",
       "      <td>NaN</td>\n",
       "    </tr>\n",
       "    <tr>\n",
       "      <th>2000-08-22</th>\n",
       "      <td>NaN</td>\n",
       "      <td>40.029903</td>\n",
       "      <td>68.374657</td>\n",
       "      <td>NaN</td>\n",
       "      <td>NaN</td>\n",
       "      <td>NaN</td>\n",
       "      <td>102.734703</td>\n",
       "      <td>NaN</td>\n",
       "      <td>NaN</td>\n",
       "      <td>63.00000</td>\n",
       "      <td>...</td>\n",
       "      <td>150.56250</td>\n",
       "      <td>NaN</td>\n",
       "      <td>NaN</td>\n",
       "      <td>3900</td>\n",
       "      <td>1800</td>\n",
       "      <td>NaN</td>\n",
       "      <td>NaN</td>\n",
       "      <td>NaN</td>\n",
       "      <td>3075300</td>\n",
       "      <td>NaN</td>\n",
       "    </tr>\n",
       "    <tr>\n",
       "      <th>2000-08-23</th>\n",
       "      <td>NaN</td>\n",
       "      <td>39.970325</td>\n",
       "      <td>68.967888</td>\n",
       "      <td>NaN</td>\n",
       "      <td>NaN</td>\n",
       "      <td>NaN</td>\n",
       "      <td>103.140663</td>\n",
       "      <td>NaN</td>\n",
       "      <td>NaN</td>\n",
       "      <td>62.90625</td>\n",
       "      <td>...</td>\n",
       "      <td>149.81250</td>\n",
       "      <td>NaN</td>\n",
       "      <td>NaN</td>\n",
       "      <td>26000</td>\n",
       "      <td>9900</td>\n",
       "      <td>NaN</td>\n",
       "      <td>NaN</td>\n",
       "      <td>NaN</td>\n",
       "      <td>5483200</td>\n",
       "      <td>NaN</td>\n",
       "    </tr>\n",
       "    <tr>\n",
       "      <th>2000-08-24</th>\n",
       "      <td>NaN</td>\n",
       "      <td>39.751896</td>\n",
       "      <td>69.537399</td>\n",
       "      <td>NaN</td>\n",
       "      <td>NaN</td>\n",
       "      <td>NaN</td>\n",
       "      <td>103.461136</td>\n",
       "      <td>NaN</td>\n",
       "      <td>NaN</td>\n",
       "      <td>62.56250</td>\n",
       "      <td>...</td>\n",
       "      <td>151.15625</td>\n",
       "      <td>NaN</td>\n",
       "      <td>NaN</td>\n",
       "      <td>2500</td>\n",
       "      <td>6900</td>\n",
       "      <td>NaN</td>\n",
       "      <td>NaN</td>\n",
       "      <td>NaN</td>\n",
       "      <td>4529000</td>\n",
       "      <td>NaN</td>\n",
       "    </tr>\n",
       "    <tr>\n",
       "      <th>2000-08-25</th>\n",
       "      <td>NaN</td>\n",
       "      <td>39.851204</td>\n",
       "      <td>69.383141</td>\n",
       "      <td>NaN</td>\n",
       "      <td>NaN</td>\n",
       "      <td>NaN</td>\n",
       "      <td>103.418442</td>\n",
       "      <td>NaN</td>\n",
       "      <td>NaN</td>\n",
       "      <td>62.71875</td>\n",
       "      <td>...</td>\n",
       "      <td>151.15625</td>\n",
       "      <td>NaN</td>\n",
       "      <td>NaN</td>\n",
       "      <td>21100</td>\n",
       "      <td>3000</td>\n",
       "      <td>NaN</td>\n",
       "      <td>NaN</td>\n",
       "      <td>NaN</td>\n",
       "      <td>2822200</td>\n",
       "      <td>NaN</td>\n",
       "    </tr>\n",
       "  </tbody>\n",
       "</table>\n",
       "<p>5 rows × 48 columns</p>\n",
       "</div>"
      ],
      "text/plain": [
       "           Adj Close                                                        \\\n",
       "                 FDL        IVE        IVW MTUM QUAL SIZE         SPY USMV   \n",
       "Date                                                                         \n",
       "2000-08-21       NaN  39.910778  68.398384  NaN  NaN  NaN  102.905678  NaN   \n",
       "2000-08-22       NaN  40.029903  68.374657  NaN  NaN  NaN  102.734703  NaN   \n",
       "2000-08-23       NaN  39.970325  68.967888  NaN  NaN  NaN  103.140663  NaN   \n",
       "2000-08-24       NaN  39.751896  69.537399  NaN  NaN  NaN  103.461136  NaN   \n",
       "2000-08-25       NaN  39.851204  69.383141  NaN  NaN  NaN  103.418442  NaN   \n",
       "\n",
       "           Close            ...       Open      Volume                         \\\n",
       "             FDL       IVE  ...        SPY USMV    FDL    IVE   IVW MTUM QUAL   \n",
       "Date                        ...                                                 \n",
       "2000-08-21   NaN  62.81250  ...  150.03125  NaN    NaN  29500  4900  NaN  NaN   \n",
       "2000-08-22   NaN  63.00000  ...  150.56250  NaN    NaN   3900  1800  NaN  NaN   \n",
       "2000-08-23   NaN  62.90625  ...  149.81250  NaN    NaN  26000  9900  NaN  NaN   \n",
       "2000-08-24   NaN  62.56250  ...  151.15625  NaN    NaN   2500  6900  NaN  NaN   \n",
       "2000-08-25   NaN  62.71875  ...  151.15625  NaN    NaN  21100  3000  NaN  NaN   \n",
       "\n",
       "                               \n",
       "           SIZE      SPY USMV  \n",
       "Date                           \n",
       "2000-08-21  NaN  2380600  NaN  \n",
       "2000-08-22  NaN  3075300  NaN  \n",
       "2000-08-23  NaN  5483200  NaN  \n",
       "2000-08-24  NaN  4529000  NaN  \n",
       "2000-08-25  NaN  2822200  NaN  \n",
       "\n",
       "[5 rows x 48 columns]"
      ]
     },
     "execution_count": 20,
     "metadata": {},
     "output_type": "execute_result"
    }
   ],
   "source": [
    "#download index price\n",
    "stocks = [\"FDL\",\"IVE\",\"IVW\",\"MTUM\",\"QUAL\",\"SPY\",\"USMV\", \"SIZE\"]\n",
    "end_date = datetime.now()\n",
    "start_date = end_date + timedelta(-365 * 20)\n",
    "data = yf.download(stocks, start=start_date, end=end_date)\n",
    "data.head()"
   ]
  },
  {
   "cell_type": "code",
   "execution_count": 21,
   "metadata": {},
   "outputs": [
    {
     "data": {
      "text/html": [
       "<div>\n",
       "<style scoped>\n",
       "    .dataframe tbody tr th:only-of-type {\n",
       "        vertical-align: middle;\n",
       "    }\n",
       "\n",
       "    .dataframe tbody tr th {\n",
       "        vertical-align: top;\n",
       "    }\n",
       "\n",
       "    .dataframe thead th {\n",
       "        text-align: right;\n",
       "    }\n",
       "</style>\n",
       "<table border=\"1\" class=\"dataframe\">\n",
       "  <thead>\n",
       "    <tr style=\"text-align: right;\">\n",
       "      <th></th>\n",
       "      <th>FDL</th>\n",
       "      <th>IVE</th>\n",
       "      <th>IVW</th>\n",
       "      <th>MTUM</th>\n",
       "      <th>QUAL</th>\n",
       "      <th>SIZE</th>\n",
       "      <th>SPY</th>\n",
       "      <th>USMV</th>\n",
       "    </tr>\n",
       "    <tr>\n",
       "      <th>Date</th>\n",
       "      <th></th>\n",
       "      <th></th>\n",
       "      <th></th>\n",
       "      <th></th>\n",
       "      <th></th>\n",
       "      <th></th>\n",
       "      <th></th>\n",
       "      <th></th>\n",
       "    </tr>\n",
       "  </thead>\n",
       "  <tbody>\n",
       "    <tr>\n",
       "      <th>2020-08-10</th>\n",
       "      <td>27.330000</td>\n",
       "      <td>116.230003</td>\n",
       "      <td>227.160004</td>\n",
       "      <td>140.919998</td>\n",
       "      <td>103.519997</td>\n",
       "      <td>94.980003</td>\n",
       "      <td>335.570007</td>\n",
       "      <td>64.260002</td>\n",
       "    </tr>\n",
       "    <tr>\n",
       "      <th>2020-08-11</th>\n",
       "      <td>27.280001</td>\n",
       "      <td>115.930000</td>\n",
       "      <td>224.470001</td>\n",
       "      <td>138.080002</td>\n",
       "      <td>103.000000</td>\n",
       "      <td>94.779999</td>\n",
       "      <td>332.799988</td>\n",
       "      <td>63.669998</td>\n",
       "    </tr>\n",
       "    <tr>\n",
       "      <th>2020-08-12</th>\n",
       "      <td>27.389999</td>\n",
       "      <td>116.779999</td>\n",
       "      <td>228.750000</td>\n",
       "      <td>141.820007</td>\n",
       "      <td>104.290001</td>\n",
       "      <td>95.410004</td>\n",
       "      <td>337.440002</td>\n",
       "      <td>64.320000</td>\n",
       "    </tr>\n",
       "    <tr>\n",
       "      <th>2020-08-13</th>\n",
       "      <td>27.160000</td>\n",
       "      <td>115.879997</td>\n",
       "      <td>229.119995</td>\n",
       "      <td>142.559998</td>\n",
       "      <td>104.040001</td>\n",
       "      <td>95.120003</td>\n",
       "      <td>336.829987</td>\n",
       "      <td>64.199997</td>\n",
       "    </tr>\n",
       "    <tr>\n",
       "      <th>2020-08-14</th>\n",
       "      <td>27.200001</td>\n",
       "      <td>116.180000</td>\n",
       "      <td>228.899994</td>\n",
       "      <td>142.449997</td>\n",
       "      <td>103.989998</td>\n",
       "      <td>95.209999</td>\n",
       "      <td>336.839996</td>\n",
       "      <td>64.209999</td>\n",
       "    </tr>\n",
       "  </tbody>\n",
       "</table>\n",
       "</div>"
      ],
      "text/plain": [
       "                  FDL         IVE         IVW        MTUM        QUAL  \\\n",
       "Date                                                                    \n",
       "2020-08-10  27.330000  116.230003  227.160004  140.919998  103.519997   \n",
       "2020-08-11  27.280001  115.930000  224.470001  138.080002  103.000000   \n",
       "2020-08-12  27.389999  116.779999  228.750000  141.820007  104.290001   \n",
       "2020-08-13  27.160000  115.879997  229.119995  142.559998  104.040001   \n",
       "2020-08-14  27.200001  116.180000  228.899994  142.449997  103.989998   \n",
       "\n",
       "                 SIZE         SPY       USMV  \n",
       "Date                                          \n",
       "2020-08-10  94.980003  335.570007  64.260002  \n",
       "2020-08-11  94.779999  332.799988  63.669998  \n",
       "2020-08-12  95.410004  337.440002  64.320000  \n",
       "2020-08-13  95.120003  336.829987  64.199997  \n",
       "2020-08-14  95.209999  336.839996  64.209999  "
      ]
     },
     "execution_count": 21,
     "metadata": {},
     "output_type": "execute_result"
    }
   ],
   "source": [
    "#funds dataframe\n",
    "funds_df = data['Close'].dropna()\n",
    "funds_df.tail()"
   ]
  },
  {
   "cell_type": "code",
   "execution_count": 22,
   "metadata": {},
   "outputs": [
    {
     "data": {
      "text/html": [
       "<div>\n",
       "<style scoped>\n",
       "    .dataframe tbody tr th:only-of-type {\n",
       "        vertical-align: middle;\n",
       "    }\n",
       "\n",
       "    .dataframe tbody tr th {\n",
       "        vertical-align: top;\n",
       "    }\n",
       "\n",
       "    .dataframe thead th {\n",
       "        text-align: right;\n",
       "    }\n",
       "</style>\n",
       "<table border=\"1\" class=\"dataframe\">\n",
       "  <thead>\n",
       "    <tr style=\"text-align: right;\">\n",
       "      <th></th>\n",
       "      <th>FDL</th>\n",
       "      <th>IVE</th>\n",
       "      <th>IVW</th>\n",
       "      <th>MTUM</th>\n",
       "      <th>QUAL</th>\n",
       "      <th>SIZE</th>\n",
       "      <th>SPY</th>\n",
       "      <th>USMV</th>\n",
       "    </tr>\n",
       "    <tr>\n",
       "      <th>Date</th>\n",
       "      <th></th>\n",
       "      <th></th>\n",
       "      <th></th>\n",
       "      <th></th>\n",
       "      <th></th>\n",
       "      <th></th>\n",
       "      <th></th>\n",
       "      <th></th>\n",
       "    </tr>\n",
       "  </thead>\n",
       "  <tbody>\n",
       "    <tr>\n",
       "      <th>2020-08-03</th>\n",
       "      <td>0.000000</td>\n",
       "      <td>0.002584</td>\n",
       "      <td>0.009717</td>\n",
       "      <td>0.012483</td>\n",
       "      <td>0.003477</td>\n",
       "      <td>0.006406</td>\n",
       "      <td>0.006952</td>\n",
       "      <td>0.000946</td>\n",
       "    </tr>\n",
       "    <tr>\n",
       "      <th>2020-08-04</th>\n",
       "      <td>0.005285</td>\n",
       "      <td>0.005420</td>\n",
       "      <td>0.002228</td>\n",
       "      <td>0.004086</td>\n",
       "      <td>0.003663</td>\n",
       "      <td>0.003129</td>\n",
       "      <td>0.003863</td>\n",
       "      <td>0.004412</td>\n",
       "    </tr>\n",
       "    <tr>\n",
       "      <th>2020-08-05</th>\n",
       "      <td>0.000376</td>\n",
       "      <td>0.005391</td>\n",
       "      <td>0.007202</td>\n",
       "      <td>0.001473</td>\n",
       "      <td>0.009764</td>\n",
       "      <td>0.008819</td>\n",
       "      <td>0.006211</td>\n",
       "      <td>-0.000784</td>\n",
       "    </tr>\n",
       "    <tr>\n",
       "      <th>2020-08-06</th>\n",
       "      <td>-0.000375</td>\n",
       "      <td>0.000088</td>\n",
       "      <td>0.010946</td>\n",
       "      <td>0.003503</td>\n",
       "      <td>0.005958</td>\n",
       "      <td>-0.001599</td>\n",
       "      <td>0.006685</td>\n",
       "      <td>0.002512</td>\n",
       "    </tr>\n",
       "    <tr>\n",
       "      <th>2020-08-07</th>\n",
       "      <td>0.015396</td>\n",
       "      <td>0.011866</td>\n",
       "      <td>-0.006767</td>\n",
       "      <td>-0.008308</td>\n",
       "      <td>0.002719</td>\n",
       "      <td>0.005766</td>\n",
       "      <td>0.000718</td>\n",
       "      <td>0.007518</td>\n",
       "    </tr>\n",
       "    <tr>\n",
       "      <th>2020-08-10</th>\n",
       "      <td>0.010725</td>\n",
       "      <td>0.009642</td>\n",
       "      <td>-0.001451</td>\n",
       "      <td>-0.007885</td>\n",
       "      <td>0.002421</td>\n",
       "      <td>0.008387</td>\n",
       "      <td>0.002989</td>\n",
       "      <td>-0.001088</td>\n",
       "    </tr>\n",
       "    <tr>\n",
       "      <th>2020-08-11</th>\n",
       "      <td>-0.001829</td>\n",
       "      <td>-0.002581</td>\n",
       "      <td>-0.011842</td>\n",
       "      <td>-0.020153</td>\n",
       "      <td>-0.005023</td>\n",
       "      <td>-0.002106</td>\n",
       "      <td>-0.008255</td>\n",
       "      <td>-0.009182</td>\n",
       "    </tr>\n",
       "    <tr>\n",
       "      <th>2020-08-12</th>\n",
       "      <td>0.004032</td>\n",
       "      <td>0.007332</td>\n",
       "      <td>0.019067</td>\n",
       "      <td>0.027086</td>\n",
       "      <td>0.012524</td>\n",
       "      <td>0.006647</td>\n",
       "      <td>0.013942</td>\n",
       "      <td>0.010209</td>\n",
       "    </tr>\n",
       "    <tr>\n",
       "      <th>2020-08-13</th>\n",
       "      <td>-0.008397</td>\n",
       "      <td>-0.007707</td>\n",
       "      <td>0.001617</td>\n",
       "      <td>0.005218</td>\n",
       "      <td>-0.002397</td>\n",
       "      <td>-0.003040</td>\n",
       "      <td>-0.001808</td>\n",
       "      <td>-0.001866</td>\n",
       "    </tr>\n",
       "    <tr>\n",
       "      <th>2020-08-14</th>\n",
       "      <td>0.001473</td>\n",
       "      <td>0.002589</td>\n",
       "      <td>-0.000960</td>\n",
       "      <td>-0.000772</td>\n",
       "      <td>-0.000481</td>\n",
       "      <td>0.000946</td>\n",
       "      <td>0.000030</td>\n",
       "      <td>0.000156</td>\n",
       "    </tr>\n",
       "  </tbody>\n",
       "</table>\n",
       "</div>"
      ],
      "text/plain": [
       "                 FDL       IVE       IVW      MTUM      QUAL      SIZE  \\\n",
       "Date                                                                     \n",
       "2020-08-03  0.000000  0.002584  0.009717  0.012483  0.003477  0.006406   \n",
       "2020-08-04  0.005285  0.005420  0.002228  0.004086  0.003663  0.003129   \n",
       "2020-08-05  0.000376  0.005391  0.007202  0.001473  0.009764  0.008819   \n",
       "2020-08-06 -0.000375  0.000088  0.010946  0.003503  0.005958 -0.001599   \n",
       "2020-08-07  0.015396  0.011866 -0.006767 -0.008308  0.002719  0.005766   \n",
       "2020-08-10  0.010725  0.009642 -0.001451 -0.007885  0.002421  0.008387   \n",
       "2020-08-11 -0.001829 -0.002581 -0.011842 -0.020153 -0.005023 -0.002106   \n",
       "2020-08-12  0.004032  0.007332  0.019067  0.027086  0.012524  0.006647   \n",
       "2020-08-13 -0.008397 -0.007707  0.001617  0.005218 -0.002397 -0.003040   \n",
       "2020-08-14  0.001473  0.002589 -0.000960 -0.000772 -0.000481  0.000946   \n",
       "\n",
       "                 SPY      USMV  \n",
       "Date                            \n",
       "2020-08-03  0.006952  0.000946  \n",
       "2020-08-04  0.003863  0.004412  \n",
       "2020-08-05  0.006211 -0.000784  \n",
       "2020-08-06  0.006685  0.002512  \n",
       "2020-08-07  0.000718  0.007518  \n",
       "2020-08-10  0.002989 -0.001088  \n",
       "2020-08-11 -0.008255 -0.009182  \n",
       "2020-08-12  0.013942  0.010209  \n",
       "2020-08-13 -0.001808 -0.001866  \n",
       "2020-08-14  0.000030  0.000156  "
      ]
     },
     "execution_count": 22,
     "metadata": {},
     "output_type": "execute_result"
    }
   ],
   "source": [
    "#return dataframe\n",
    "funds_return = funds_df.pct_change().dropna()\n",
    "funds_return.tail(10)"
   ]
  },
  {
   "cell_type": "markdown",
   "metadata": {},
   "source": [
    "# 3. Predetermine Portfolios and Backtesting"
   ]
  },
  {
   "cell_type": "markdown",
   "metadata": {},
   "source": [
    "## Analyse historical risk/return of passive vs active funds"
   ]
  },
  {
   "cell_type": "markdown",
   "metadata": {},
   "source": [
    "We are looking at return and risk characteristic of S&P index, a passive fund, and active funds like Value funds (VL), Momentum funds (MT), Qyality fund (QL), Growth (GR), and High Dividend (HD). Price and return data are daily frequency covering 07/18/2013 to the most recent date. "
   ]
  },
  {
   "cell_type": "code",
   "execution_count": 23,
   "metadata": {},
   "outputs": [
    {
     "data": {
      "text/html": [
       "<div>\n",
       "<style scoped>\n",
       "    .dataframe tbody tr th:only-of-type {\n",
       "        vertical-align: middle;\n",
       "    }\n",
       "\n",
       "    .dataframe tbody tr th {\n",
       "        vertical-align: top;\n",
       "    }\n",
       "\n",
       "    .dataframe thead th {\n",
       "        text-align: right;\n",
       "    }\n",
       "</style>\n",
       "<table border=\"1\" class=\"dataframe\">\n",
       "  <thead>\n",
       "    <tr style=\"text-align: right;\">\n",
       "      <th></th>\n",
       "      <th>VL-IVE</th>\n",
       "      <th>SC-SIZE</th>\n",
       "      <th>MT-MTUM</th>\n",
       "      <th>LV-USMV</th>\n",
       "      <th>HD-FDL</th>\n",
       "      <th>QL-QUAL</th>\n",
       "      <th>GR-IVW</th>\n",
       "      <th>SPY</th>\n",
       "    </tr>\n",
       "    <tr>\n",
       "      <th>Date</th>\n",
       "      <th></th>\n",
       "      <th></th>\n",
       "      <th></th>\n",
       "      <th></th>\n",
       "      <th></th>\n",
       "      <th></th>\n",
       "      <th></th>\n",
       "      <th></th>\n",
       "    </tr>\n",
       "  </thead>\n",
       "  <tbody>\n",
       "    <tr>\n",
       "      <th>2013-07-18</th>\n",
       "      <td>79.949997</td>\n",
       "      <td>53.040001</td>\n",
       "      <td>54.110001</td>\n",
       "      <td>33.849998</td>\n",
       "      <td>21.379999</td>\n",
       "      <td>50.150002</td>\n",
       "      <td>88.529999</td>\n",
       "      <td>168.869995</td>\n",
       "    </tr>\n",
       "    <tr>\n",
       "      <th>2013-07-19</th>\n",
       "      <td>80.230003</td>\n",
       "      <td>53.040001</td>\n",
       "      <td>54.349998</td>\n",
       "      <td>33.930000</td>\n",
       "      <td>21.430000</td>\n",
       "      <td>49.759998</td>\n",
       "      <td>88.500000</td>\n",
       "      <td>169.169998</td>\n",
       "    </tr>\n",
       "    <tr>\n",
       "      <th>2013-07-22</th>\n",
       "      <td>80.400002</td>\n",
       "      <td>54.000000</td>\n",
       "      <td>54.419998</td>\n",
       "      <td>33.939999</td>\n",
       "      <td>21.430000</td>\n",
       "      <td>50.000000</td>\n",
       "      <td>88.660004</td>\n",
       "      <td>169.500000</td>\n",
       "    </tr>\n",
       "    <tr>\n",
       "      <th>2013-07-23</th>\n",
       "      <td>80.419998</td>\n",
       "      <td>54.000000</td>\n",
       "      <td>54.330002</td>\n",
       "      <td>33.900002</td>\n",
       "      <td>21.510000</td>\n",
       "      <td>49.919998</td>\n",
       "      <td>88.339996</td>\n",
       "      <td>169.139999</td>\n",
       "    </tr>\n",
       "    <tr>\n",
       "      <th>2013-07-24</th>\n",
       "      <td>79.900002</td>\n",
       "      <td>54.000000</td>\n",
       "      <td>54.139999</td>\n",
       "      <td>33.680000</td>\n",
       "      <td>21.360001</td>\n",
       "      <td>49.849998</td>\n",
       "      <td>88.250000</td>\n",
       "      <td>168.520004</td>\n",
       "    </tr>\n",
       "  </tbody>\n",
       "</table>\n",
       "</div>"
      ],
      "text/plain": [
       "               VL-IVE    SC-SIZE    MT-MTUM    LV-USMV     HD-FDL    QL-QUAL  \\\n",
       "Date                                                                           \n",
       "2013-07-18  79.949997  53.040001  54.110001  33.849998  21.379999  50.150002   \n",
       "2013-07-19  80.230003  53.040001  54.349998  33.930000  21.430000  49.759998   \n",
       "2013-07-22  80.400002  54.000000  54.419998  33.939999  21.430000  50.000000   \n",
       "2013-07-23  80.419998  54.000000  54.330002  33.900002  21.510000  49.919998   \n",
       "2013-07-24  79.900002  54.000000  54.139999  33.680000  21.360001  49.849998   \n",
       "\n",
       "               GR-IVW         SPY  \n",
       "Date                               \n",
       "2013-07-18  88.529999  168.869995  \n",
       "2013-07-19  88.500000  169.169998  \n",
       "2013-07-22  88.660004  169.500000  \n",
       "2013-07-23  88.339996  169.139999  \n",
       "2013-07-24  88.250000  168.520004  "
      ]
     },
     "execution_count": 23,
     "metadata": {},
     "output_type": "execute_result"
    }
   ],
   "source": [
    "#reorder the columns of price dataframe into fund groups\n",
    "funds_df.columns = [\"HD-FDL\",\"VL-IVE\",\"GR-IVW\",\"MT-MTUM\",\"QL-QUAL\",\"SC-SIZE\",\"SPY\",\"LV-USMV\"]\n",
    "funds_df = funds_df[[\"VL-IVE\",\"SC-SIZE\",\"MT-MTUM\",\"LV-USMV\",\"HD-FDL\",\"QL-QUAL\",\"GR-IVW\",\"SPY\"]]\n",
    "funds_df.head()"
   ]
  },
  {
   "cell_type": "code",
   "execution_count": 24,
   "metadata": {},
   "outputs": [
    {
     "data": {
      "text/html": [
       "<div>\n",
       "<style scoped>\n",
       "    .dataframe tbody tr th:only-of-type {\n",
       "        vertical-align: middle;\n",
       "    }\n",
       "\n",
       "    .dataframe tbody tr th {\n",
       "        vertical-align: top;\n",
       "    }\n",
       "\n",
       "    .dataframe thead th {\n",
       "        text-align: right;\n",
       "    }\n",
       "</style>\n",
       "<table border=\"1\" class=\"dataframe\">\n",
       "  <thead>\n",
       "    <tr style=\"text-align: right;\">\n",
       "      <th></th>\n",
       "      <th>VL-IVE</th>\n",
       "      <th>SC-SIZE</th>\n",
       "      <th>MT-MTUM</th>\n",
       "      <th>LV-USMV</th>\n",
       "      <th>HD-FDL</th>\n",
       "      <th>QL-QUAL</th>\n",
       "      <th>GR-IVW</th>\n",
       "      <th>SPY</th>\n",
       "    </tr>\n",
       "    <tr>\n",
       "      <th>Date</th>\n",
       "      <th></th>\n",
       "      <th></th>\n",
       "      <th></th>\n",
       "      <th></th>\n",
       "      <th></th>\n",
       "      <th></th>\n",
       "      <th></th>\n",
       "      <th></th>\n",
       "    </tr>\n",
       "  </thead>\n",
       "  <tbody>\n",
       "    <tr>\n",
       "      <th>2013-07-19</th>\n",
       "      <td>0.003502</td>\n",
       "      <td>0.0000</td>\n",
       "      <td>0.004435</td>\n",
       "      <td>0.002363</td>\n",
       "      <td>0.002339</td>\n",
       "      <td>-0.007777</td>\n",
       "      <td>-0.000339</td>\n",
       "      <td>0.001777</td>\n",
       "    </tr>\n",
       "    <tr>\n",
       "      <th>2013-07-22</th>\n",
       "      <td>0.002119</td>\n",
       "      <td>0.0181</td>\n",
       "      <td>0.001288</td>\n",
       "      <td>0.000295</td>\n",
       "      <td>0.000000</td>\n",
       "      <td>0.004823</td>\n",
       "      <td>0.001808</td>\n",
       "      <td>0.001951</td>\n",
       "    </tr>\n",
       "    <tr>\n",
       "      <th>2013-07-23</th>\n",
       "      <td>0.000249</td>\n",
       "      <td>0.0000</td>\n",
       "      <td>-0.001654</td>\n",
       "      <td>-0.001178</td>\n",
       "      <td>0.003733</td>\n",
       "      <td>-0.001600</td>\n",
       "      <td>-0.003609</td>\n",
       "      <td>-0.002124</td>\n",
       "    </tr>\n",
       "    <tr>\n",
       "      <th>2013-07-24</th>\n",
       "      <td>-0.006466</td>\n",
       "      <td>0.0000</td>\n",
       "      <td>-0.003497</td>\n",
       "      <td>-0.006490</td>\n",
       "      <td>-0.006973</td>\n",
       "      <td>-0.001402</td>\n",
       "      <td>-0.001019</td>\n",
       "      <td>-0.003666</td>\n",
       "    </tr>\n",
       "    <tr>\n",
       "      <th>2013-07-25</th>\n",
       "      <td>0.002128</td>\n",
       "      <td>0.0000</td>\n",
       "      <td>0.007573</td>\n",
       "      <td>0.003860</td>\n",
       "      <td>0.004213</td>\n",
       "      <td>0.005216</td>\n",
       "      <td>0.002946</td>\n",
       "      <td>0.002433</td>\n",
       "    </tr>\n",
       "  </tbody>\n",
       "</table>\n",
       "</div>"
      ],
      "text/plain": [
       "              VL-IVE  SC-SIZE   MT-MTUM   LV-USMV    HD-FDL   QL-QUAL  \\\n",
       "Date                                                                    \n",
       "2013-07-19  0.003502   0.0000  0.004435  0.002363  0.002339 -0.007777   \n",
       "2013-07-22  0.002119   0.0181  0.001288  0.000295  0.000000  0.004823   \n",
       "2013-07-23  0.000249   0.0000 -0.001654 -0.001178  0.003733 -0.001600   \n",
       "2013-07-24 -0.006466   0.0000 -0.003497 -0.006490 -0.006973 -0.001402   \n",
       "2013-07-25  0.002128   0.0000  0.007573  0.003860  0.004213  0.005216   \n",
       "\n",
       "              GR-IVW       SPY  \n",
       "Date                            \n",
       "2013-07-19 -0.000339  0.001777  \n",
       "2013-07-22  0.001808  0.001951  \n",
       "2013-07-23 -0.003609 -0.002124  \n",
       "2013-07-24 -0.001019 -0.003666  \n",
       "2013-07-25  0.002946  0.002433  "
      ]
     },
     "execution_count": 24,
     "metadata": {},
     "output_type": "execute_result"
    }
   ],
   "source": [
    "#reorder the columns of return dataframe into fund groups\n",
    "funds_return.columns = [\"HD-FDL\",\"VL-IVE\",\"GR-IVW\",\"MT-MTUM\",\"QL-QUAL\",\"SC-SIZE\",\"SPY\",\"LV-USMV\"]\n",
    "funds_return = funds_return[[\"VL-IVE\",\"SC-SIZE\",\"MT-MTUM\",\"LV-USMV\",\"HD-FDL\",\"QL-QUAL\",\"GR-IVW\",\"SPY\"]]\n",
    "funds_return.head()"
   ]
  },
  {
   "cell_type": "markdown",
   "metadata": {},
   "source": [
    "We are looking at return and risk characteristic of S&P index, a passive fund, and active funds which are Value Fund (VL), Small Cap Fund (SC), Momentum Fund (MT), Low Vol Fund (LV), High Dividen (HD), Quality Fund (QL) and Growth Fund (GR). Price and return data are daily frequency covering 07/18/2013 to the most recent date."
   ]
  },
  {
   "cell_type": "markdown",
   "metadata": {},
   "source": [
    "Return of every active fund is positively correlated to S&P. "
   ]
  },
  {
   "cell_type": "code",
   "execution_count": 25,
   "metadata": {},
   "outputs": [
    {
     "data": {
      "text/plain": [
       "<matplotlib.axes._subplots.AxesSubplot at 0x144b0a09608>"
      ]
     },
     "execution_count": 25,
     "metadata": {},
     "output_type": "execute_result"
    },
    {
     "data": {
      "image/png": "[encoded data removed]",
      "text/plain": [
       "<Figure size 432x288 with 2 Axes>"
      ]
     },
     "metadata": {
      "needs_background": "light"
     },
     "output_type": "display_data"
    }
   ],
   "source": [
    "# return correlation, beta: positive correlation. High Dividend EFTs seems to correlated more \n",
    "correlation = funds_return.corr()\n",
    "sns.heatmap(correlation, vmin =-1, vmax=1)"
   ]
  },
  {
   "cell_type": "code",
   "execution_count": 26,
   "metadata": {},
   "outputs": [
    {
     "data": {
      "image/png": "[encoded data removed]",
      "text/plain": [
       "<Figure size 1080x504 with 1 Axes>"
      ]
     },
     "metadata": {
      "needs_background": "light"
     },
     "output_type": "display_data"
    }
   ],
   "source": [
    "#distribution of returns\n",
    "boxplot_return_dist = funds_return.boxplot(figsize = (15,7), grid = True)"
   ]
  },
  {
   "cell_type": "markdown",
   "metadata": {},
   "source": [
    "Looking at fund's return volatility in the past 7 years, all active funds have similar vol as S&P except Low Vol fund which try to capture beta by low-volatile stick in nature. "
   ]
  },
  {
   "cell_type": "code",
   "execution_count": 27,
   "metadata": {},
   "outputs": [
    {
     "data": {
      "text/plain": [
       "<matplotlib.axes._subplots.AxesSubplot at 0x144b2dd5bc8>"
      ]
     },
     "execution_count": 27,
     "metadata": {},
     "output_type": "execute_result"
    },
    {
     "data": {
      "image/png": "[encoded data removed]",
      "text/plain": [
       "<Figure size 432x288 with 1 Axes>"
      ]
     },
     "metadata": {
      "needs_background": "light"
     },
     "output_type": "display_data"
    }
   ],
   "source": [
    "#long-term volatilityof return\n",
    "funds_return_std = funds_return.std()\n",
    "funds_return_std.plot(kind=\"bar\")"
   ]
  },
  {
   "cell_type": "markdown",
   "metadata": {},
   "source": [
    "In term of tradeoff between risk and return, Momentum(Sharpe ratio 1.26), Growth (1.28), Quality (1.04) and Low Vol (0.68) Funds offer better risk-adjusted return compared to S&P index(0.65). "
   ]
  },
  {
   "cell_type": "markdown",
   "metadata": {},
   "source": [
    "Active funds could outperform S&P by 4% annually. Annualized return from investing in S&P in the past 7 years is 10.29% (annualized return since inception). The best performer among active funds is Momentum (MT-MTUM) which generate annualized return at 14.60%. Follow by Growth (GR-IVW, 14.37%), Quality (QL-QUAL, 10.91%). Even Value funds underperform S&P but annualized return are still positive. Majority of High Dividend funds generate loss."
   ]
  },
  {
   "cell_type": "markdown",
   "metadata": {},
   "source": [
    "However, rank of performance change in recent shorter horizon. Outperformance of Momentum fund is pretty robust, except in the past 3 months that Momentum Fund (17.72%) underperform S&P (18.20%). Growth Fund (21.41%) and Small Cap Fund (20.72%) are the best performers in the past 3 months as propect of economic growth improved."
   ]
  },
  {
   "cell_type": "markdown",
   "metadata": {},
   "source": [
    "Growth fund is also performed slightly better than market index during tough time. Maximum Drawdown of Momentum fund is -34.08%, slightly than -34.10% of S&P index. However, MDD is shallower for HD-HYG (-28.05%). In contrast, MDD are deeper in HD-FDL (-41.40%) and HD-SDIV (-69.08%)."
   ]
  },
  {
   "cell_type": "code",
   "execution_count": 28,
   "metadata": {},
   "outputs": [
    {
     "name": "stdout",
     "output_type": "stream",
     "text": [
      "Stat                 VL-IVE      SC-SIZE     MT-MTUM     LV-USMV     HD-FDL      QL-QUAL     GR-IVW      SPY\n",
      "-------------------  ----------  ----------  ----------  ----------  ----------  ----------  ----------  ----------\n",
      "Start                2013-07-18  2013-07-18  2013-07-18  2013-07-18  2013-07-18  2013-07-18  2013-07-18  2013-07-18\n",
      "End                  2020-08-14  2020-08-14  2020-08-14  2020-08-14  2020-08-14  2020-08-14  2020-08-14  2020-08-14\n",
      "Risk-free rate       0.00%       0.00%       0.00%       0.00%       0.00%       0.00%       0.00%       0.00%\n",
      "\n",
      "Total Return         45.32%      79.51%      163.26%     89.69%      27.22%      107.36%     158.56%     99.47%\n",
      "Daily Sharpe         0.39        0.56        0.83        0.68        0.29        0.69        0.84        0.65\n",
      "Daily Sortino        0.58        0.81        1.26        1.02        0.42        1.04        1.28        0.98\n",
      "CAGR                 5.42%       8.62%       14.66%      9.47%       3.46%       10.86%      14.37%      10.25%\n",
      "Max Drawdown         -37.04%     -39.15%     -34.08%     -33.10%     -41.40%     -34.06%     -31.35%     -34.10%\n",
      "Calmar Ratio         0.15        0.22        0.43        0.29        0.08        0.32        0.46        0.30\n",
      "\n",
      "MTD                  3.50%       3.38%       1.61%       1.28%       2.68%       3.30%       2.98%       3.16%\n",
      "3m                   14.05%      20.72%      17.72%      10.88%      15.01%      15.81%      21.41%      18.20%\n",
      "6m                   -11.60%     -5.45%      4.08%       -7.84%      -14.36%     -0.96%      9.23%       -0.23%\n",
      "YTD                  -10.69%     -2.26%      13.45%      -2.12%      -16.51%     2.96%       18.21%      4.65%\n",
      "1Y                   3.73%       9.93%       21.63%      3.73%       -7.10%      17.76%      30.96%      18.65%\n",
      "3Y (ann.)            3.19%       6.76%       15.30%      8.68%       -1.44%      11.51%      17.55%      10.96%\n",
      "5Y (ann.)            4.70%       7.29%       14.29%      8.63%       3.07%       9.90%       14.30%      9.97%\n",
      "10Y (ann.)           5.42%       8.62%       14.66%      9.47%       3.46%       10.86%      14.37%      10.25%\n",
      "Since Incep. (ann.)  5.42%       8.62%       14.66%      9.47%       3.46%       10.86%      14.37%      10.25%\n",
      "\n",
      "Daily Sharpe         0.39        0.56        0.83        0.68        0.29        0.69        0.84        0.65\n",
      "Daily Sortino        0.58        0.81        1.26        1.02        0.42        1.04        1.28        0.98\n",
      "Daily Mean (ann.)    6.82%       9.85%       15.44%      10.17%      4.87%       11.80%      15.04%      11.25%\n",
      "Daily Vol (ann.)     17.49%      17.68%      18.63%      14.91%      17.07%      17.19%      17.88%      17.18%\n",
      "Daily Skew           -0.72       -1.26       -0.53       -0.69       -0.88       -0.35       -0.56       -0.73\n",
      "Daily Kurt           20.92       28.80       17.91       25.47       23.16       19.22       19.04       19.30\n",
      "Best Day             9.69%       10.21%      10.65%      8.67%       9.87%       10.36%      9.54%       9.06%\n",
      "Worst Day            -11.19%     -13.59%     -12.37%     -10.08%     -10.33%     -10.18%     -11.88%     -10.94%\n",
      "\n",
      "Monthly Sharpe       0.45        0.62        1.08        0.88        0.32        0.84        1.05        0.79\n",
      "Monthly Sortino      0.68        0.95        1.93        1.43        0.45        1.45        1.97        1.31\n",
      "Monthly Mean (ann.)  6.34%       9.16%       14.55%      9.72%       4.37%       11.23%      14.42%      10.71%\n",
      "Monthly Vol (ann.)   14.14%      14.71%      13.42%      11.04%      13.85%      13.32%      13.68%      13.50%\n",
      "Monthly Skew         -0.98       -1.11       -0.64       -0.97       -1.53       -0.50       -0.22       -0.60\n",
      "Monthly Kurt         3.02        5.61        1.68        3.13        7.34        1.82        1.61        2.25\n",
      "Best Month           10.64%      13.66%      11.70%      9.37%       12.14%      12.28%      14.25%      12.70%\n",
      "Worst Month          -16.03%     -18.77%     -11.93%     -11.85%     -19.47%     -11.87%     -10.57%     -13.00%\n",
      "\n",
      "Yearly Sharpe        0.36        0.65        1.05        0.92        0.29        0.77        1.17        0.80\n",
      "Yearly Sortino       1.02        2.52        12.96       11.50       0.60        3.47        25.50       4.02\n",
      "Yearly Mean          5.40%       8.08%       13.78%      9.22%       3.92%       9.71%       13.25%      9.51%\n",
      "Yearly Vol           15.05%      12.47%      13.18%      9.98%       13.50%      12.68%      11.37%      11.93%\n",
      "Yearly Skew          0.24        0.17        0.67        0.46        -0.44       0.68        0.16        0.40\n",
      "Yearly Kurt          -1.18       -0.91       -0.02       -0.88       -1.19       0.53        -1.62       -0.27\n",
      "Best Year            28.62%      27.12%      35.95%      25.19%      19.60%      31.58%      28.52%      28.79%\n",
      "Worst Year           -11.47%     -8.63%      -2.81%      -2.12%      -16.51%     -7.41%      -1.37%      -6.35%\n",
      "\n",
      "Avg. Drawdown        -2.13%      -1.99%      -2.06%      -1.60%      -2.27%      -2.00%      -1.73%      -1.72%\n",
      "Avg. Drawdown Days   29.52       22.82       17.72       19.04       31.48       20.66       15.95       19.61\n",
      "Avg. Up Month        2.76%       2.91%       3.36%       2.52%       2.54%       3.06%       3.20%       2.80%\n",
      "Avg. Down Month      -3.56%      -3.17%      -2.73%      -2.32%      -3.06%      -2.76%      -3.10%      -3.43%\n",
      "Win Year %           57.14%      57.14%      85.71%      71.43%      57.14%      85.71%      85.71%      71.43%\n",
      "Win 12m %            72.00%      85.33%      93.33%      90.67%      70.67%      92.00%      90.67%      88.00%\n"
     ]
    }
   ],
   "source": [
    "#backtesting\n",
    "backtest = funds_df.calc_stats()\n",
    "backtest.display()"
   ]
  },
  {
   "cell_type": "markdown",
   "metadata": {},
   "source": [
    "Examine risk and return characteristics of passive and active funds in different economic/market scenarios in the past to get better idea how Momentum, Quality and Growth funds outperform market index. Given limitation of fund’s data which allow us to go back just 7 years, we set scenarios into 3 scenarios. (1) Taper Tantrum which represent the period of high market volatility in 2013  as investors feared that Fed will withdraw large amount of support in bond market and could increase funding rate. (2) Hike cycle in 2016-18  which represent period of good economic growth that Fed feel confident to increase policy rate. (3) Recent market turmoil during COVID pandemic which cause VIX index to spike in Mar. "
   ]
  },
  {
   "cell_type": "markdown",
   "metadata": {},
   "source": [
    "During Taper Tantrum period in 2013, Momentum (25.66% since incep ann) and Quality (30.10%) funds outperformed S&P (21.78%). Value fund (15.79-15.95%) turned out underperformed market index and were more volatile. Similar conclusion seen in pandemic scenario. Momentum (25.66%) also outperformed S&P (21.78%) during hiking cycle together with Low Vol (8.29%) and Growth (9.86%)."
   ]
  },
  {
   "cell_type": "markdown",
   "metadata": {},
   "source": [
    "During market turmoil, Growth Fund has smallest MDD (-25.73%) and slightly lower than S&P (-28.74%).  "
   ]
  },
  {
   "cell_type": "code",
   "execution_count": 29,
   "metadata": {},
   "outputs": [],
   "source": [
    "#economic cycle:cutting cycle(none),Taper Tantrum(2013), goldilock/hike cycle(2016-18), pandemic(Mar-May2020)\n",
    "#slice return datafram into scenarios\n",
    "funds_return_taper_tantrum = funds_return.loc['20130718':'20131231']\n",
    "funds_return_hike_cycle = funds_return.loc['20160102':'20181231']\n",
    "funds_return_pandemic = funds_return.loc['20200302':'20200330']\n",
    "#slice price dataframe into scenarios\n",
    "funds_df_taper_tantrum = funds_df.loc['20130718':'20131231']\n",
    "funds_df_hike_cycle = funds_df.loc['20160102':'20181231']\n",
    "funds_df_pandemic = funds_df.loc['20200302':'20200330']"
   ]
  },
  {
   "cell_type": "code",
   "execution_count": 30,
   "metadata": {},
   "outputs": [
    {
     "name": "stdout",
     "output_type": "stream",
     "text": [
      "Stat                 VL-IVE      SC-SIZE     MT-MTUM     LV-USMV     HD-FDL      QL-QUAL     GR-IVW      SPY\n",
      "-------------------  ----------  ----------  ----------  ----------  ----------  ----------  ----------  ----------\n",
      "Start                2013-07-18  2013-07-18  2013-07-18  2013-07-18  2013-07-18  2013-07-18  2013-07-18  2013-07-18\n",
      "End                  2013-12-31  2013-12-31  2013-12-31  2013-12-31  2013-12-31  2013-12-31  2013-12-31  2013-12-31\n",
      "Risk-free rate       0.00%       0.00%       0.00%       0.00%       0.00%       0.00%       0.00%       0.00%\n",
      "\n",
      "Total Return         6.89%       8.45%       10.94%      4.87%       2.48%       12.70%      11.54%      9.37%\n",
      "Daily Sharpe         1.49        1.81        2.34        1.19        0.63        2.84        2.48        2.04\n",
      "Daily Sortino        2.81        2.82        4.35        2.42        1.11        5.04        4.66        3.81\n",
      "CAGR                 15.79%      19.53%      25.66%      11.04%      5.54%       30.10%      27.17%      21.78%\n",
      "Max Drawdown         -5.03%      -4.33%      -5.20%      -4.38%      -5.18%      -4.36%      -4.14%      -4.46%\n",
      "Calmar Ratio         3.14        4.51        4.93        2.52        1.07        6.90        6.56        4.89\n",
      "\n",
      "MTD                  1.68%       1.54%       2.32%       0.68%       0.64%       1.95%       2.75%       2.04%\n",
      "3m                   9.12%       7.53%       11.41%      6.83%       5.13%       11.30%      10.51%      9.93%\n",
      "6m                   -           -           -           -           -           -           -           -\n",
      "YTD                  6.89%       8.45%       10.94%      4.87%       2.48%       12.70%      11.54%      9.37%\n",
      "1Y                   -           -           -           -           -           -           -           -\n",
      "3Y (ann.)            -           -           -           -           -           -           -           -\n",
      "5Y (ann.)            -           -           -           -           -           -           -           -\n",
      "10Y (ann.)           -           -           -           -           -           -           -           -\n",
      "Since Incep. (ann.)  15.79%      19.53%      25.66%      11.04%      5.54%       30.10%      27.17%      21.78%\n",
      "\n",
      "Daily Sharpe         1.49        1.81        2.34        1.19        0.63        2.84        2.48        2.04\n",
      "Daily Sortino        2.81        2.82        4.35        2.42        1.11        5.04        4.66        3.81\n",
      "Daily Mean (ann.)    15.12%      18.28%      23.25%      10.84%      5.79%       26.65%      24.43%      20.11%\n",
      "Daily Vol (ann.)     10.12%      10.10%      9.92%       9.08%       9.22%       9.39%       9.86%       9.87%\n",
      "Daily Skew           0.27        -0.34       -0.01       0.63        0.08        -0.35       0.11        0.17\n",
      "Daily Kurt           0.77        4.05        0.61        1.08        0.11        0.49        1.17        0.99\n",
      "Best Day             2.19%       2.29%       1.85%       1.74%       1.55%       1.44%       2.18%       2.16%\n",
      "Worst Day            -1.62%      -2.25%      -1.72%      -1.34%      -1.53%      -1.60%      -1.57%      -1.61%\n",
      "\n",
      "Monthly Sharpe       1.65        1.55        2.07        1.26        0.61        3.10        2.89        2.24\n",
      "Monthly Sortino      3.08        3.15        4.39        2.47        1.11        9.19        7.43        4.80\n",
      "Monthly Mean (ann.)  17.18%      16.13%      24.24%      12.44%      5.93%       29.55%      27.08%      22.32%\n",
      "Monthly Vol (ann.)   10.42%      10.38%      11.68%      9.91%       9.69%       9.54%       9.36%       9.98%\n",
      "Monthly Skew         -1.52       -0.84       -1.39       -0.51       -0.03       -1.48       -1.71       -1.60\n",
      "Monthly Kurt         3.00        1.70        2.94        1.82        1.79        2.11        3.49        3.23\n",
      "Best Month           4.38%       4.88%       5.57%       4.72%       4.41%       4.86%       4.72%       4.63%\n",
      "Worst Month          -3.60%      -3.30%      -3.56%      -3.26%      -3.46%      -2.08%      -2.35%      -3.00%\n",
      "\n",
      "Yearly Sharpe        -           -           -           -           -           -           -           -\n",
      "Yearly Sortino       -           -           -           -           -           -           -           -\n",
      "Yearly Mean          -           -           -           -           -           -           -           -\n",
      "Yearly Vol           -           -           -           -           -           -           -           -\n",
      "Yearly Skew          -           -           -           -           -           -           -           -\n",
      "Yearly Kurt          -           -           -           -           -           -           -           -\n",
      "Best Year            -           -           -           -           -           -           -           -\n",
      "Worst Year           -           -           -           -           -           -           -           -\n",
      "\n",
      "Avg. Drawdown        -1.41%      -1.85%      -1.47%      -1.76%      -1.56%      -1.22%      -1.20%      -1.25%\n",
      "Avg. Drawdown Days   10.25       15.29       11.18       17.50       20.71       9.67        10.08       9.46\n",
      "Avg. Up Month        2.69%       2.51%       3.42%       2.11%       1.48%       3.60%       3.41%       3.07%\n",
      "Avg. Down Month      -3.60%      -3.30%      -3.56%      -3.26%      -3.46%      -2.08%      -2.35%      -3.00%\n",
      "Win Year %           -           -           -           -           -           -           -           -\n",
      "Win 12m %            -           -           -           -           -           -           -           -\n"
     ]
    }
   ],
   "source": [
    "#backtest funds during Taper Tantrum\n",
    "backtest_taper_tantrum = funds_df_taper_tantrum.calc_stats()\n",
    "backtest_taper_tantrum.display()"
   ]
  },
  {
   "cell_type": "code",
   "execution_count": 31,
   "metadata": {},
   "outputs": [
    {
     "name": "stdout",
     "output_type": "stream",
     "text": [
      "Stat                 VL-IVE      SC-SIZE     MT-MTUM     LV-USMV     HD-FDL      QL-QUAL     GR-IVW      SPY\n",
      "-------------------  ----------  ----------  ----------  ----------  ----------  ----------  ----------  ----------\n",
      "Start                2016-01-04  2016-01-04  2016-01-04  2016-01-04  2016-01-04  2016-01-04  2016-01-04  2016-01-04\n",
      "End                  2018-12-31  2018-12-31  2018-12-31  2018-12-31  2018-12-31  2018-12-31  2018-12-31  2018-12-31\n",
      "Risk-free rate       0.00%       0.00%       0.00%       0.00%       0.00%       0.00%       0.00%       0.00%\n",
      "\n",
      "Total Return         15.61%      21.25%      39.58%      26.88%      15.87%      20.65%      32.46%      24.33%\n",
      "Daily Sharpe         0.45        0.60        0.80        0.83        0.50        0.56        0.73        0.62\n",
      "Daily Sortino        0.68        0.91        1.22        1.26        0.75        0.84        1.10        0.94\n",
      "CAGR                 4.97%       6.66%       11.80%      8.29%       5.05%       6.48%       9.86%       7.55%\n",
      "Max Drawdown         -21.26%     -19.56%     -22.42%     -13.56%     -16.54%     -21.20%     -20.90%     -20.18%\n",
      "Calmar Ratio         0.23        0.34        0.53        0.61        0.31        0.31        0.47        0.37\n",
      "\n",
      "MTD                  -10.03%     -10.43%     -7.87%      -7.26%      -9.38%      -8.94%      -8.76%      -9.33%\n",
      "3m                   -12.69%     -12.87%     -15.77%     -8.13%      -8.62%      -15.06%     -14.96%     -14.03%\n",
      "6m                   -8.16%      -9.08%      -8.63%      -1.43%      -4.72%      -8.02%      -7.34%      -7.87%\n",
      "YTD                  -11.47%     -8.63%      -2.81%      -0.72%      -9.47%      -7.41%      -1.37%      -6.35%\n",
      "1Y                   -11.47%     -8.63%      -2.81%      -0.72%      -9.47%      -7.41%      -1.37%      -6.35%\n",
      "3Y (ann.)            4.97%       6.66%       11.80%      8.29%       5.05%       6.48%       9.86%       7.55%\n",
      "5Y (ann.)            -           -           -           -           -           -           -           -\n",
      "10Y (ann.)           -           -           -           -           -           -           -           -\n",
      "Since Incep. (ann.)  4.97%       6.66%       11.80%      8.29%       5.05%       6.48%       9.86%       7.55%\n",
      "\n",
      "Daily Sharpe         0.45        0.60        0.80        0.83        0.50        0.56        0.73        0.62\n",
      "Daily Sortino        0.68        0.91        1.22        1.26        0.75        0.84        1.10        0.94\n",
      "Daily Mean (ann.)    5.65%       7.18%       12.34%      8.50%       5.53%       7.09%       10.44%      8.14%\n",
      "Daily Vol (ann.)     12.60%      12.04%      15.35%      10.29%      10.99%      12.69%      14.32%      13.04%\n",
      "Daily Skew           -0.59       -0.42       -0.54       -0.66       -0.84       -0.58       -0.52       -0.53\n",
      "Daily Kurt           4.36        4.38        4.42        4.67        4.42        4.84        4.67        5.10\n",
      "Best Day             4.46%       4.60%       5.58%       3.42%       3.31%       4.69%       5.31%       5.05%\n",
      "Worst Day            -4.16%      -3.48%      -4.48%      -3.60%      -4.17%      -3.82%      -4.11%      -4.18%\n",
      "\n",
      "Monthly Sharpe       0.63        0.79        1.06        0.96        0.49        0.78        1.00        0.88\n",
      "Monthly Sortino      0.95        1.16        1.72        1.58        0.75        1.17        1.63        1.32\n",
      "Monthly Mean (ann.)  6.91%       8.16%       12.85%      8.64%       4.95%       8.11%       11.55%      9.32%\n",
      "Monthly Vol (ann.)   10.92%      10.33%      12.17%      9.00%       10.01%      10.42%      11.49%      10.61%\n",
      "Monthly Skew         -1.15       -1.54       -1.07       -0.95       -1.17       -1.31       -1.02       -1.34\n",
      "Monthly Kurt         3.12        5.18        2.57        1.67        2.99        3.16        2.26        3.25\n",
      "Best Month           6.30%       6.89%       8.22%       5.42%       5.51%       5.91%       7.13%       6.18%\n",
      "Worst Month          -10.03%     -10.43%     -9.86%      -7.26%      -9.38%      -8.94%      -8.76%      -9.33%\n",
      "\n",
      "Yearly Sharpe        0.04        0.23        0.60        0.65        -0.04       0.32        0.63        0.36\n",
      "Yearly Sortino       0.08        0.67        8.33        15.71       -0.08       1.20        12.38       1.45\n",
      "Yearly Mean          0.61%       4.07%       16.57%      8.00%       -0.54%      6.28%       12.03%      6.52%\n",
      "Yearly Vol           17.08%      17.97%      27.41%      12.33%      12.63%      19.36%      18.96%      18.20%\n",
      "Yearly Skew          -           -           -           -           -           -           -           -\n",
      "Yearly Kurt          -           -           -           -           -           -           -           -\n",
      "Best Year            12.68%      16.78%      35.95%      16.72%      8.39%       19.97%      25.44%      19.38%\n",
      "Worst Year           -11.47%     -8.63%      -2.81%      -0.72%      -9.47%      -7.41%      -1.37%      -6.35%\n",
      "\n",
      "Avg. Drawdown        -1.67%      -1.61%      -1.54%      -1.38%      -1.63%      -1.61%      -1.38%      -1.36%\n",
      "Avg. Drawdown Days   23.85       18.33       13.98       18.64       26.22       20.09       12.81       15.71\n",
      "Avg. Up Month        2.16%       2.12%       2.79%       2.05%       2.12%       2.19%       2.47%       2.04%\n",
      "Avg. Down Month      -2.46%      -2.09%      -2.67%      -2.18%      -2.16%      -2.23%      -2.80%      -2.87%\n",
      "Win Year %           50.00%      50.00%      50.00%      50.00%      50.00%      50.00%      50.00%      50.00%\n",
      "Win 12m %            88.00%      92.00%      96.00%      96.00%      76.00%      96.00%      96.00%      96.00%\n"
     ]
    }
   ],
   "source": [
    "#backtest funds during hiking cycle\n",
    "backtest_hike_cycle = funds_df_hike_cycle.calc_stats()\n",
    "backtest_hike_cycle.display()"
   ]
  },
  {
   "cell_type": "code",
   "execution_count": 32,
   "metadata": {},
   "outputs": [
    {
     "name": "stdout",
     "output_type": "stream",
     "text": [
      "Stat                 VL-IVE      SC-SIZE     MT-MTUM     LV-USMV     HD-FDL      QL-QUAL     GR-IVW      SPY\n",
      "-------------------  ----------  ----------  ----------  ----------  ----------  ----------  ----------  ----------\n",
      "Start                2020-03-02  2020-03-02  2020-03-02  2020-03-02  2020-03-02  2020-03-02  2020-03-02  2020-03-02\n",
      "End                  2020-03-30  2020-03-30  2020-03-30  2020-03-30  2020-03-30  2020-03-30  2020-03-30  2020-03-30\n",
      "Risk-free rate       0.00%       0.00%       0.00%       0.00%       0.00%       0.00%       0.00%       0.00%\n",
      "\n",
      "Total Return         -18.21%     -20.07%     -13.34%     -14.37%     -21.83%     -14.13%     -12.98%     -15.35%\n",
      "Daily Sharpe         -2.16       -2.24       -1.38       -1.86       -2.76       -1.62       -1.40       -1.81\n",
      "Daily Sortino        -3.70       -3.60       -2.39       -3.20       -4.63       -2.90       -2.42       -3.09\n",
      "CAGR                 -92.73%     -94.62%     -84.54%     -86.78%     -95.98%     -86.30%     -83.69%     -88.62%\n",
      "Max Drawdown         -31.61%     -33.35%     -30.47%     -29.80%     -34.49%     -28.41%     -25.73%     -28.74%\n",
      "Calmar Ratio         -2.93       -2.84       -2.77       -2.91       -2.78       -3.04       -3.25       -3.08\n",
      "\n",
      "MTD                  -           -           -           -           -           -           -           -\n",
      "3m                   -           -           -           -           -           -           -           -\n",
      "6m                   -           -           -           -           -           -           -           -\n",
      "YTD                  -18.21%     -20.07%     -13.34%     -14.37%     -21.83%     -14.13%     -12.98%     -15.35%\n",
      "1Y                   -           -           -           -           -           -           -           -\n",
      "3Y (ann.)            -           -           -           -           -           -           -           -\n",
      "5Y (ann.)            -           -           -           -           -           -           -           -\n",
      "10Y (ann.)           -           -           -           -           -           -           -           -\n",
      "Since Incep. (ann.)  -92.73%     -94.62%     -84.54%     -86.78%     -95.98%     -86.30%     -83.69%     -88.62%\n",
      "\n",
      "Daily Sharpe         -2.16       -2.24       -1.38       -1.86       -2.76       -1.62       -1.40       -1.81\n",
      "Daily Sortino        -3.70       -3.60       -2.39       -3.20       -4.63       -2.90       -2.42       -3.09\n",
      "Daily Mean (ann.)    -207.65%    -229.85%    -134.26%    -159.55%    -264.56%    -150.34%    -132.15%    -167.84%\n",
      "Daily Vol (ann.)     96.24%      102.62%     97.49%      85.71%      95.72%      92.79%      94.15%      92.82%\n",
      "Daily Skew           0.12        -0.13       0.05        0.06        0.14        0.24        0.04        0.04\n",
      "Daily Kurt           -0.83       -0.73       -0.68       -0.85       -0.94       -0.79       -0.63       -0.92\n",
      "Best Day             9.69%       10.21%      10.65%      8.67%       9.87%       10.36%      9.54%       9.06%\n",
      "Worst Day            -11.19%     -13.59%     -12.37%     -10.08%     -10.33%     -10.18%     -11.88%     -10.94%\n",
      "\n",
      "Monthly Sharpe       -           -           -           -           -           -           -           -\n",
      "Monthly Sortino      -           -           -           -           -           -           -           -\n",
      "Monthly Mean (ann.)  -           -           -           -           -           -           -           -\n",
      "Monthly Vol (ann.)   -           -           -           -           -           -           -           -\n",
      "Monthly Skew         -           -           -           -           -           -           -           -\n",
      "Monthly Kurt         -           -           -           -           -           -           -           -\n",
      "Best Month           -           -           -           -           -           -           -           -\n",
      "Worst Month          -           -           -           -           -           -           -           -\n",
      "\n",
      "Yearly Sharpe        -           -           -           -           -           -           -           -\n",
      "Yearly Sortino       -           -           -           -           -           -           -           -\n",
      "Yearly Mean          -           -           -           -           -           -           -           -\n",
      "Yearly Vol           -           -           -           -           -           -           -           -\n",
      "Yearly Skew          -           -           -           -           -           -           -           -\n",
      "Yearly Kurt          -           -           -           -           -           -           -           -\n",
      "Best Year            -           -           -           -           -           -           -           -\n",
      "Worst Year           -           -           -           -           -           -           -           -\n",
      "\n",
      "Avg. Drawdown        -17.22%     -17.87%     -16.21%     -15.77%     -18.62%     -15.70%     -14.27%     -15.80%\n",
      "Avg. Drawdown Days   13.00       13.00       13.00       13.00       13.00       13.00       13.00       13.00\n",
      "Avg. Up Month        -           -           -           -           -           -           -           -\n",
      "Avg. Down Month      -           -           -           -           -           -           -           -\n",
      "Win Year %           -           -           -           -           -           -           -           -\n",
      "Win 12m %            -           -           -           -           -           -           -           -\n"
     ]
    }
   ],
   "source": [
    "#backtest funds during pandemic\n",
    "backtest_pandemic = funds_df_pandemic.calc_stats()\n",
    "backtest_pandemic.display()"
   ]
  },
  {
   "cell_type": "markdown",
   "metadata": {},
   "source": [
    "Interestingly, every funds correalted more with S&P during crisis time when volatiliry in the market spike. This could mean benefit of diversify among passive/active could become lower durinf crisis time."
   ]
  },
  {
   "cell_type": "code",
   "execution_count": 33,
   "metadata": {},
   "outputs": [
    {
     "data": {
      "text/plain": [
       "<matplotlib.axes._subplots.AxesSubplot at 0x144b1390d88>"
      ]
     },
     "execution_count": 33,
     "metadata": {},
     "output_type": "execute_result"
    },
    {
     "data": {
      "image/png": "[encoded data removed]",
      "text/plain": [
       "<Figure size 432x288 with 2 Axes>"
      ]
     },
     "metadata": {
      "needs_background": "light"
     },
     "output_type": "display_data"
    }
   ],
   "source": [
    "#correlation in different periods/cycle\n",
    "correlation_pandemic = funds_return_pandemic.corr()\n",
    "sns.heatmap(correlation_pandemic, vmin =-1, vmax=1)"
   ]
  },
  {
   "cell_type": "markdown",
   "metadata": {},
   "source": [
    "## Visualization of findings from historical return analysis"
   ]
  },
  {
   "cell_type": "code",
   "execution_count": 34,
   "metadata": {},
   "outputs": [
    {
     "data": {
      "text/plain": [
       "<matplotlib.axes._subplots.AxesSubplot at 0x144b2bbed88>"
      ]
     },
     "execution_count": 34,
     "metadata": {},
     "output_type": "execute_result"
    },
    {
     "data": {
      "image/png": "[encoded data removed]",
      "text/plain": [
       "<Figure size 1080x504 with 1 Axes>"
      ]
     },
     "metadata": {
      "needs_background": "light"
     },
     "output_type": "display_data"
    }
   ],
   "source": [
    "# Cummulative return: Growth, Momentum and Qualirty ETFs outperform SPY during 2013-current.\n",
    "funds_return_cum = (1+funds_return).cumprod()\n",
    "funds_return_cum.plot(figsize = (15,7), title = \"ETFs Cummulative Returns During 2013-current\")"
   ]
  },
  {
   "cell_type": "markdown",
   "metadata": {},
   "source": [
    "### In term of tradeoff between risk and return, Momentum(Sharpe ratio 1.26), Growth (1.28), Quality (1.04) and Low Vol (0.68) Funds offer better risk-adjusted return compared to S&P index(0.65). "
   ]
  },
  {
   "cell_type": "code",
   "execution_count": 35,
   "metadata": {},
   "outputs": [
    {
     "data": {
      "text/plain": [
       "<matplotlib.axes._subplots.AxesSubplot at 0x144b2e4ef88>"
      ]
     },
     "execution_count": 35,
     "metadata": {},
     "output_type": "execute_result"
    },
    {
     "data": {
      "image/png": "[encoded data removed]",
      "text/plain": [
       "<Figure size 432x288 with 1 Axes>"
      ]
     },
     "metadata": {
      "needs_background": "light"
     },
     "output_type": "display_data"
    }
   ],
   "source": [
    "# Sharpe ratio: Risk/return tradeoff are less attractive in High Dividend funds. Most attractive in Momentum, Quality and Growth funds.\n",
    "funds_return_sharpe = round((funds_return.mean()*252)/(funds_return.std() * np.sqrt(252)),2)\n",
    "funds_return_sharpe.plot(kind=\"bar\")"
   ]
  },
  {
   "cell_type": "markdown",
   "metadata": {},
   "source": [
    "### Outperformance of Momentum fund is pretty robust under different scenarios, except in the past 3 months that Momentum Fund underperform S&P. Growth Fund and Small Cap Fund are the best performers in the past 3 months as propect of economic growth improved."
   ]
  },
  {
   "cell_type": "code",
   "execution_count": 36,
   "metadata": {},
   "outputs": [
    {
     "data": {
      "text/html": [
       "<div>\n",
       "<style scoped>\n",
       "    .dataframe tbody tr th:only-of-type {\n",
       "        vertical-align: middle;\n",
       "    }\n",
       "\n",
       "    .dataframe tbody tr th {\n",
       "        vertical-align: top;\n",
       "    }\n",
       "\n",
       "    .dataframe thead th {\n",
       "        text-align: right;\n",
       "    }\n",
       "</style>\n",
       "<table border=\"1\" class=\"dataframe\">\n",
       "  <thead>\n",
       "    <tr style=\"text-align: right;\">\n",
       "      <th></th>\n",
       "      <th>Total</th>\n",
       "      <th>Last 3M</th>\n",
       "      <th>Taper Tantum</th>\n",
       "      <th>Pandemic</th>\n",
       "      <th>Hike Cycle</th>\n",
       "    </tr>\n",
       "  </thead>\n",
       "  <tbody>\n",
       "    <tr>\n",
       "      <th>VL-IVE</th>\n",
       "      <td>45.32</td>\n",
       "      <td>14.05</td>\n",
       "      <td>6.89</td>\n",
       "      <td>-18.21</td>\n",
       "      <td>15.61</td>\n",
       "    </tr>\n",
       "    <tr>\n",
       "      <th>SC-SIZE</th>\n",
       "      <td>79.51</td>\n",
       "      <td>20.72</td>\n",
       "      <td>8.45</td>\n",
       "      <td>-20.07</td>\n",
       "      <td>21.25</td>\n",
       "    </tr>\n",
       "    <tr>\n",
       "      <th>MT-MTUM</th>\n",
       "      <td>163.26</td>\n",
       "      <td>17.72</td>\n",
       "      <td>10.94</td>\n",
       "      <td>-13.34</td>\n",
       "      <td>39.58</td>\n",
       "    </tr>\n",
       "    <tr>\n",
       "      <th>LV-USMV</th>\n",
       "      <td>89.69</td>\n",
       "      <td>10.88</td>\n",
       "      <td>4.87</td>\n",
       "      <td>-14.37</td>\n",
       "      <td>26.88</td>\n",
       "    </tr>\n",
       "    <tr>\n",
       "      <th>HD-FDL</th>\n",
       "      <td>27.22</td>\n",
       "      <td>15.01</td>\n",
       "      <td>2.48</td>\n",
       "      <td>-21.83</td>\n",
       "      <td>15.87</td>\n",
       "    </tr>\n",
       "    <tr>\n",
       "      <th>QL-QUAL</th>\n",
       "      <td>107.36</td>\n",
       "      <td>15.81</td>\n",
       "      <td>12.70</td>\n",
       "      <td>-14.13</td>\n",
       "      <td>20.65</td>\n",
       "    </tr>\n",
       "    <tr>\n",
       "      <th>GR-IVW</th>\n",
       "      <td>158.56</td>\n",
       "      <td>21.41</td>\n",
       "      <td>11.54</td>\n",
       "      <td>-12.98</td>\n",
       "      <td>32.46</td>\n",
       "    </tr>\n",
       "    <tr>\n",
       "      <th>SPY</th>\n",
       "      <td>99.47</td>\n",
       "      <td>18.20</td>\n",
       "      <td>9.37</td>\n",
       "      <td>-15.35</td>\n",
       "      <td>24.33</td>\n",
       "    </tr>\n",
       "  </tbody>\n",
       "</table>\n",
       "</div>"
      ],
      "text/plain": [
       "          Total  Last 3M  Taper Tantum  Pandemic  Hike Cycle\n",
       "VL-IVE    45.32    14.05          6.89    -18.21       15.61\n",
       "SC-SIZE   79.51    20.72          8.45    -20.07       21.25\n",
       "MT-MTUM  163.26    17.72         10.94    -13.34       39.58\n",
       "LV-USMV   89.69    10.88          4.87    -14.37       26.88\n",
       "HD-FDL    27.22    15.01          2.48    -21.83       15.87\n",
       "QL-QUAL  107.36    15.81         12.70    -14.13       20.65\n",
       "GR-IVW   158.56    21.41         11.54    -12.98       32.46\n",
       "SPY       99.47    18.20          9.37    -15.35       24.33"
      ]
     },
     "execution_count": 36,
     "metadata": {},
     "output_type": "execute_result"
    }
   ],
   "source": [
    "funds_df_3m = funds_df.loc['20200514':'20200814']\n",
    "total_return_all = round(ffn.core.calc_total_return(funds_df)*100,2)\n",
    "total_return_3m = round(ffn.core.calc_total_return(funds_df_3m)*100,2)\n",
    "total_return_taper_tantrum = round(ffn.core.calc_total_return(funds_df_taper_tantrum)*100,2)\n",
    "total_return_pandemic = round(ffn.core.calc_total_return(funds_df_pandemic)*100,2)\n",
    "total_return_hike_cycle = round(ffn.core.calc_total_return(funds_df_hike_cycle)*100,2)\n",
    "total_return_scenarios = pd.concat([total_return_all, total_return_3m, total_return_taper_tantrum,total_return_pandemic,total_return_hike_cycle], axis = 1,keys=['Total','Last 3M','Taper Tantum','Pandemic','Hike Cycle'])\n",
    "total_return_scenarios"
   ]
  },
  {
   "cell_type": "markdown",
   "metadata": {},
   "source": [
    "### Less downside risk is seen in Growth Fund during market turmoil. However, every funds correalted more with S&P during crisis time when volatility in the market spike. This could mean benefit of diversify among passive/active could become lower durinf crisis time."
   ]
  },
  {
   "cell_type": "code",
   "execution_count": 37,
   "metadata": {},
   "outputs": [
    {
     "data": {
      "text/plain": [
       "<matplotlib.axes._subplots.AxesSubplot at 0x144b2f60508>"
      ]
     },
     "execution_count": 37,
     "metadata": {},
     "output_type": "execute_result"
    },
    {
     "data": {
      "image/png": "[encoded data removed]",
      "text/plain": [
       "<Figure size 432x288 with 1 Axes>"
      ]
     },
     "metadata": {
      "needs_background": "light"
     },
     "output_type": "display_data"
    }
   ],
   "source": [
    "ffn.core.calc_max_drawdown(funds_df_pandemic).plot(kind=\"bar\")"
   ]
  },
  {
   "cell_type": "code",
   "execution_count": 38,
   "metadata": {},
   "outputs": [
    {
     "data": {
      "text/plain": [
       "<matplotlib.axes._subplots.AxesSubplot at 0x144b33503c8>"
      ]
     },
     "execution_count": 38,
     "metadata": {},
     "output_type": "execute_result"
    },
    {
     "data": {
      "image/png": "[encoded data removed]",
      "text/plain": [
       "<Figure size 432x288 with 2 Axes>"
      ]
     },
     "metadata": {
      "needs_background": "light"
     },
     "output_type": "display_data"
    }
   ],
   "source": [
    "sns.heatmap(correlation_pandemic, vmin =-1, vmax=1)"
   ]
  },
  {
   "cell_type": "markdown",
   "metadata": {},
   "source": [
    "# 4. Simulated Return and Portfolio Optimization"
   ]
  },
  {
   "cell_type": "markdown",
   "metadata": {},
   "source": [
    "## Monte Carlo Simulations for SPY and Factors EFT"
   ]
  },
  {
   "cell_type": "code",
   "execution_count": 39,
   "metadata": {},
   "outputs": [
    {
     "data": {
      "text/html": [
       "<div>\n",
       "<style scoped>\n",
       "    .dataframe tbody tr th:only-of-type {\n",
       "        vertical-align: middle;\n",
       "    }\n",
       "\n",
       "    .dataframe tbody tr th {\n",
       "        vertical-align: top;\n",
       "    }\n",
       "\n",
       "    .dataframe thead th {\n",
       "        text-align: right;\n",
       "    }\n",
       "</style>\n",
       "<table border=\"1\" class=\"dataframe\">\n",
       "  <thead>\n",
       "    <tr style=\"text-align: right;\">\n",
       "      <th></th>\n",
       "      <th>VL-IVE</th>\n",
       "      <th>SC-SIZE</th>\n",
       "      <th>MT-MTUM</th>\n",
       "      <th>LV-USMV</th>\n",
       "      <th>HD-FDL</th>\n",
       "      <th>QL-QUAL</th>\n",
       "      <th>GR-IVW</th>\n",
       "      <th>SPY</th>\n",
       "    </tr>\n",
       "    <tr>\n",
       "      <th>Date</th>\n",
       "      <th></th>\n",
       "      <th></th>\n",
       "      <th></th>\n",
       "      <th></th>\n",
       "      <th></th>\n",
       "      <th></th>\n",
       "      <th></th>\n",
       "      <th></th>\n",
       "    </tr>\n",
       "  </thead>\n",
       "  <tbody>\n",
       "    <tr>\n",
       "      <th>2013-07-19</th>\n",
       "      <td>0.003502</td>\n",
       "      <td>0.000000</td>\n",
       "      <td>0.004435</td>\n",
       "      <td>0.002363</td>\n",
       "      <td>0.002339</td>\n",
       "      <td>-0.007777</td>\n",
       "      <td>-0.000339</td>\n",
       "      <td>0.001777</td>\n",
       "    </tr>\n",
       "    <tr>\n",
       "      <th>2013-07-22</th>\n",
       "      <td>0.002119</td>\n",
       "      <td>0.018100</td>\n",
       "      <td>0.001288</td>\n",
       "      <td>0.000295</td>\n",
       "      <td>0.000000</td>\n",
       "      <td>0.004823</td>\n",
       "      <td>0.001808</td>\n",
       "      <td>0.001951</td>\n",
       "    </tr>\n",
       "    <tr>\n",
       "      <th>2013-07-23</th>\n",
       "      <td>0.000249</td>\n",
       "      <td>0.000000</td>\n",
       "      <td>-0.001654</td>\n",
       "      <td>-0.001178</td>\n",
       "      <td>0.003733</td>\n",
       "      <td>-0.001600</td>\n",
       "      <td>-0.003609</td>\n",
       "      <td>-0.002124</td>\n",
       "    </tr>\n",
       "    <tr>\n",
       "      <th>2013-07-24</th>\n",
       "      <td>-0.006466</td>\n",
       "      <td>0.000000</td>\n",
       "      <td>-0.003497</td>\n",
       "      <td>-0.006490</td>\n",
       "      <td>-0.006973</td>\n",
       "      <td>-0.001402</td>\n",
       "      <td>-0.001019</td>\n",
       "      <td>-0.003666</td>\n",
       "    </tr>\n",
       "    <tr>\n",
       "      <th>2013-07-25</th>\n",
       "      <td>0.002128</td>\n",
       "      <td>0.000000</td>\n",
       "      <td>0.007573</td>\n",
       "      <td>0.003860</td>\n",
       "      <td>0.004213</td>\n",
       "      <td>0.005216</td>\n",
       "      <td>0.002946</td>\n",
       "      <td>0.002433</td>\n",
       "    </tr>\n",
       "    <tr>\n",
       "      <th>...</th>\n",
       "      <td>...</td>\n",
       "      <td>...</td>\n",
       "      <td>...</td>\n",
       "      <td>...</td>\n",
       "      <td>...</td>\n",
       "      <td>...</td>\n",
       "      <td>...</td>\n",
       "      <td>...</td>\n",
       "    </tr>\n",
       "    <tr>\n",
       "      <th>2020-08-10</th>\n",
       "      <td>0.009642</td>\n",
       "      <td>0.008387</td>\n",
       "      <td>-0.007885</td>\n",
       "      <td>-0.001088</td>\n",
       "      <td>0.010725</td>\n",
       "      <td>0.002421</td>\n",
       "      <td>-0.001451</td>\n",
       "      <td>0.002989</td>\n",
       "    </tr>\n",
       "    <tr>\n",
       "      <th>2020-08-11</th>\n",
       "      <td>-0.002581</td>\n",
       "      <td>-0.002106</td>\n",
       "      <td>-0.020153</td>\n",
       "      <td>-0.009182</td>\n",
       "      <td>-0.001829</td>\n",
       "      <td>-0.005023</td>\n",
       "      <td>-0.011842</td>\n",
       "      <td>-0.008255</td>\n",
       "    </tr>\n",
       "    <tr>\n",
       "      <th>2020-08-12</th>\n",
       "      <td>0.007332</td>\n",
       "      <td>0.006647</td>\n",
       "      <td>0.027086</td>\n",
       "      <td>0.010209</td>\n",
       "      <td>0.004032</td>\n",
       "      <td>0.012524</td>\n",
       "      <td>0.019067</td>\n",
       "      <td>0.013942</td>\n",
       "    </tr>\n",
       "    <tr>\n",
       "      <th>2020-08-13</th>\n",
       "      <td>-0.007707</td>\n",
       "      <td>-0.003040</td>\n",
       "      <td>0.005218</td>\n",
       "      <td>-0.001866</td>\n",
       "      <td>-0.008397</td>\n",
       "      <td>-0.002397</td>\n",
       "      <td>0.001617</td>\n",
       "      <td>-0.001808</td>\n",
       "    </tr>\n",
       "    <tr>\n",
       "      <th>2020-08-14</th>\n",
       "      <td>0.002589</td>\n",
       "      <td>0.000946</td>\n",
       "      <td>-0.000772</td>\n",
       "      <td>0.000156</td>\n",
       "      <td>0.001473</td>\n",
       "      <td>-0.000481</td>\n",
       "      <td>-0.000960</td>\n",
       "      <td>0.000030</td>\n",
       "    </tr>\n",
       "  </tbody>\n",
       "</table>\n",
       "<p>1782 rows × 8 columns</p>\n",
       "</div>"
      ],
      "text/plain": [
       "              VL-IVE   SC-SIZE   MT-MTUM   LV-USMV    HD-FDL   QL-QUAL  \\\n",
       "Date                                                                     \n",
       "2013-07-19  0.003502  0.000000  0.004435  0.002363  0.002339 -0.007777   \n",
       "2013-07-22  0.002119  0.018100  0.001288  0.000295  0.000000  0.004823   \n",
       "2013-07-23  0.000249  0.000000 -0.001654 -0.001178  0.003733 -0.001600   \n",
       "2013-07-24 -0.006466  0.000000 -0.003497 -0.006490 -0.006973 -0.001402   \n",
       "2013-07-25  0.002128  0.000000  0.007573  0.003860  0.004213  0.005216   \n",
       "...              ...       ...       ...       ...       ...       ...   \n",
       "2020-08-10  0.009642  0.008387 -0.007885 -0.001088  0.010725  0.002421   \n",
       "2020-08-11 -0.002581 -0.002106 -0.020153 -0.009182 -0.001829 -0.005023   \n",
       "2020-08-12  0.007332  0.006647  0.027086  0.010209  0.004032  0.012524   \n",
       "2020-08-13 -0.007707 -0.003040  0.005218 -0.001866 -0.008397 -0.002397   \n",
       "2020-08-14  0.002589  0.000946 -0.000772  0.000156  0.001473 -0.000481   \n",
       "\n",
       "              GR-IVW       SPY  \n",
       "Date                            \n",
       "2013-07-19 -0.000339  0.001777  \n",
       "2013-07-22  0.001808  0.001951  \n",
       "2013-07-23 -0.003609 -0.002124  \n",
       "2013-07-24 -0.001019 -0.003666  \n",
       "2013-07-25  0.002946  0.002433  \n",
       "...              ...       ...  \n",
       "2020-08-10 -0.001451  0.002989  \n",
       "2020-08-11 -0.011842 -0.008255  \n",
       "2020-08-12  0.019067  0.013942  \n",
       "2020-08-13  0.001617 -0.001808  \n",
       "2020-08-14 -0.000960  0.000030  \n",
       "\n",
       "[1782 rows x 8 columns]"
      ]
     },
     "execution_count": 39,
     "metadata": {},
     "output_type": "execute_result"
    }
   ],
   "source": [
    "# Calculate the daily roi for the stocks\n",
    "funds_return"
   ]
  },
  {
   "cell_type": "code",
   "execution_count": 40,
   "metadata": {},
   "outputs": [
    {
     "data": {
      "text/html": [
       "<div>\n",
       "<style scoped>\n",
       "    .dataframe tbody tr th:only-of-type {\n",
       "        vertical-align: middle;\n",
       "    }\n",
       "\n",
       "    .dataframe tbody tr th {\n",
       "        vertical-align: top;\n",
       "    }\n",
       "\n",
       "    .dataframe thead th {\n",
       "        text-align: right;\n",
       "    }\n",
       "</style>\n",
       "<table border=\"1\" class=\"dataframe\">\n",
       "  <thead>\n",
       "    <tr style=\"text-align: right;\">\n",
       "      <th></th>\n",
       "      <th>VL-IVE</th>\n",
       "      <th>SC-SIZE</th>\n",
       "      <th>MT-MTUM</th>\n",
       "      <th>LV-USMV</th>\n",
       "      <th>HD-FDL</th>\n",
       "      <th>QL-QUAL</th>\n",
       "      <th>GR-IVW</th>\n",
       "      <th>SPY</th>\n",
       "    </tr>\n",
       "    <tr>\n",
       "      <th>Date</th>\n",
       "      <th></th>\n",
       "      <th></th>\n",
       "      <th></th>\n",
       "      <th></th>\n",
       "      <th></th>\n",
       "      <th></th>\n",
       "      <th></th>\n",
       "      <th></th>\n",
       "    </tr>\n",
       "  </thead>\n",
       "  <tbody>\n",
       "    <tr>\n",
       "      <th>2019-04-05</th>\n",
       "      <td>0.00548</td>\n",
       "      <td>0.006805</td>\n",
       "      <td>0.004194</td>\n",
       "      <td>0.004409</td>\n",
       "      <td>0.004613</td>\n",
       "      <td>0.00512</td>\n",
       "      <td>0.003894</td>\n",
       "      <td>0.00484</td>\n",
       "    </tr>\n",
       "  </tbody>\n",
       "</table>\n",
       "</div>"
      ],
      "text/plain": [
       "             VL-IVE   SC-SIZE   MT-MTUM   LV-USMV    HD-FDL  QL-QUAL  \\\n",
       "Date                                                                   \n",
       "2019-04-05  0.00548  0.006805  0.004194  0.004409  0.004613  0.00512   \n",
       "\n",
       "              GR-IVW      SPY  \n",
       "Date                           \n",
       "2019-04-05  0.003894  0.00484  "
      ]
     },
     "execution_count": 40,
     "metadata": {},
     "output_type": "execute_result"
    }
   ],
   "source": [
    "# Display sample data\n",
    "funds_return.sample()"
   ]
  },
  {
   "cell_type": "code",
   "execution_count": 41,
   "metadata": {},
   "outputs": [
    {
     "data": {
      "text/plain": [
       "VL-IVE     0.011016\n",
       "SC-SIZE    0.011139\n",
       "MT-MTUM    0.011736\n",
       "LV-USMV    0.009390\n",
       "HD-FDL     0.010753\n",
       "QL-QUAL    0.010828\n",
       "GR-IVW     0.011264\n",
       "SPY        0.010820\n",
       "dtype: float64"
      ]
     },
     "execution_count": 41,
     "metadata": {},
     "output_type": "execute_result"
    }
   ],
   "source": [
    "# Compute daily roi volatility\n",
    "funds_return_vol= funds_return.std()\n",
    "funds_return_vol"
   ]
  },
  {
   "cell_type": "code",
   "execution_count": 42,
   "metadata": {},
   "outputs": [
    {
     "data": {
      "text/plain": [
       "0.010752585906117065"
      ]
     },
     "execution_count": 42,
     "metadata": {},
     "output_type": "execute_result"
    }
   ],
   "source": [
    "funds_return_vol_fdl = funds_return[\"HD-FDL\"].std()\n",
    "funds_return_vol_fdl"
   ]
  },
  {
   "cell_type": "code",
   "execution_count": 43,
   "metadata": {},
   "outputs": [
    {
     "data": {
      "text/plain": [
       "0.01101552353658306"
      ]
     },
     "execution_count": 43,
     "metadata": {},
     "output_type": "execute_result"
    }
   ],
   "source": [
    "funds_return_vol_ive = funds_return[\"VL-IVE\"].std()\n",
    "funds_return_vol_ive"
   ]
  },
  {
   "cell_type": "code",
   "execution_count": 44,
   "metadata": {},
   "outputs": [
    {
     "data": {
      "text/plain": [
       "0.011263552344499628"
      ]
     },
     "execution_count": 44,
     "metadata": {},
     "output_type": "execute_result"
    }
   ],
   "source": [
    "funds_return_vol_ivw = funds_return[\"GR-IVW\"].std()\n",
    "funds_return_vol_ivw"
   ]
  },
  {
   "cell_type": "code",
   "execution_count": 45,
   "metadata": {},
   "outputs": [
    {
     "data": {
      "text/plain": [
       "0.011735570660030286"
      ]
     },
     "execution_count": 45,
     "metadata": {},
     "output_type": "execute_result"
    }
   ],
   "source": [
    "funds_return_vol_mtum = funds_return[\"MT-MTUM\"].std()\n",
    "funds_return_vol_mtum"
   ]
  },
  {
   "cell_type": "code",
   "execution_count": 46,
   "metadata": {},
   "outputs": [
    {
     "data": {
      "text/plain": [
       "0.010828465936228196"
      ]
     },
     "execution_count": 46,
     "metadata": {},
     "output_type": "execute_result"
    }
   ],
   "source": [
    "funds_return_vol_qual = funds_return[\"QL-QUAL\"].std()\n",
    "funds_return_vol_qual"
   ]
  },
  {
   "cell_type": "code",
   "execution_count": 47,
   "metadata": {},
   "outputs": [
    {
     "data": {
      "text/plain": [
       "0.011139330296638751"
      ]
     },
     "execution_count": 47,
     "metadata": {},
     "output_type": "execute_result"
    }
   ],
   "source": [
    "funds_return_vol_size = funds_return[\"SC-SIZE\"].std()\n",
    "funds_return_vol_size"
   ]
  },
  {
   "cell_type": "code",
   "execution_count": 48,
   "metadata": {},
   "outputs": [
    {
     "data": {
      "text/plain": [
       "0.010819910482372973"
      ]
     },
     "execution_count": 48,
     "metadata": {},
     "output_type": "execute_result"
    }
   ],
   "source": [
    "funds_return_vol_spy = funds_return[\"SPY\"].std()\n",
    "funds_return_vol_spy"
   ]
  },
  {
   "cell_type": "code",
   "execution_count": 49,
   "metadata": {},
   "outputs": [
    {
     "data": {
      "text/plain": [
       "0.009390342930315671"
      ]
     },
     "execution_count": 49,
     "metadata": {},
     "output_type": "execute_result"
    }
   ],
   "source": [
    "funds_return_vol_usmv = funds_return[\"LV-USMV\"].std()\n",
    "funds_return_vol_usmv"
   ]
  },
  {
   "cell_type": "code",
   "execution_count": 50,
   "metadata": {},
   "outputs": [
    {
     "data": {
      "text/plain": [
       "0.0001933335274732707"
      ]
     },
     "execution_count": 50,
     "metadata": {},
     "output_type": "execute_result"
    }
   ],
   "source": [
    "# Compute daily roi average\n",
    "funds_daily_return_fdl = funds_return[\"HD-FDL\"].mean()\n",
    "funds_daily_return_fdl"
   ]
  },
  {
   "cell_type": "code",
   "execution_count": 51,
   "metadata": {},
   "outputs": [
    {
     "data": {
      "text/plain": [
       "0.0002707799291291307"
      ]
     },
     "execution_count": 51,
     "metadata": {},
     "output_type": "execute_result"
    }
   ],
   "source": [
    "funds_daily_return_ive = funds_return[\"VL-IVE\"].mean()\n",
    "funds_daily_return_ive"
   ]
  },
  {
   "cell_type": "code",
   "execution_count": 52,
   "metadata": {},
   "outputs": [
    {
     "data": {
      "text/plain": [
       "0.0005969328913784723"
      ]
     },
     "execution_count": 52,
     "metadata": {},
     "output_type": "execute_result"
    }
   ],
   "source": [
    "funds_daily_return_ivw = funds_return[\"GR-IVW\"].mean()\n",
    "funds_daily_return_ivw"
   ]
  },
  {
   "cell_type": "code",
   "execution_count": 53,
   "metadata": {},
   "outputs": [
    {
     "data": {
      "text/plain": [
       "0.0006125049693035996"
      ]
     },
     "execution_count": 53,
     "metadata": {},
     "output_type": "execute_result"
    }
   ],
   "source": [
    "funds_daily_return_mtum = funds_return[\"MT-MTUM\"].mean()\n",
    "funds_daily_return_mtum"
   ]
  },
  {
   "cell_type": "code",
   "execution_count": 54,
   "metadata": {},
   "outputs": [
    {
     "data": {
      "text/plain": [
       "0.0004681198962246045"
      ]
     },
     "execution_count": 54,
     "metadata": {},
     "output_type": "execute_result"
    }
   ],
   "source": [
    "funds_daily_return_qual = funds_return[\"QL-QUAL\"].mean()\n",
    "funds_daily_return_qual"
   ]
  },
  {
   "cell_type": "code",
   "execution_count": 55,
   "metadata": {},
   "outputs": [
    {
     "data": {
      "text/plain": [
       "0.0003910488673849596"
      ]
     },
     "execution_count": 55,
     "metadata": {},
     "output_type": "execute_result"
    }
   ],
   "source": [
    "funds_daily_return_size = funds_return[\"SC-SIZE\"].mean()\n",
    "funds_daily_return_size"
   ]
  },
  {
   "cell_type": "code",
   "execution_count": 56,
   "metadata": {},
   "outputs": [
    {
     "data": {
      "text/plain": [
       "0.00044640821340453203"
      ]
     },
     "execution_count": 56,
     "metadata": {},
     "output_type": "execute_result"
    }
   ],
   "source": [
    "funds_daily_return_spy = funds_return[\"SPY\"].mean()\n",
    "funds_daily_return_spy"
   ]
  },
  {
   "cell_type": "code",
   "execution_count": 57,
   "metadata": {},
   "outputs": [
    {
     "data": {
      "text/plain": [
       "0.009390342930315671"
      ]
     },
     "execution_count": 57,
     "metadata": {},
     "output_type": "execute_result"
    }
   ],
   "source": [
    "funds_daily_return_usmv = funds_return[\"LV-USMV\"].std()\n",
    "funds_daily_return_usmv"
   ]
  },
  {
   "cell_type": "code",
   "execution_count": 58,
   "metadata": {},
   "outputs": [
    {
     "data": {
      "text/plain": [
       "0.001472787767013095"
      ]
     },
     "execution_count": 58,
     "metadata": {},
     "output_type": "execute_result"
    }
   ],
   "source": [
    "# Save the last day's closing price\n",
    "last_day_fdl = funds_return[\"HD-FDL\"][-1]\n",
    "last_day_fdl"
   ]
  },
  {
   "cell_type": "code",
   "execution_count": 59,
   "metadata": {},
   "outputs": [
    {
     "data": {
      "text/plain": [
       "0.002588911450366549"
      ]
     },
     "execution_count": 59,
     "metadata": {},
     "output_type": "execute_result"
    }
   ],
   "source": [
    "last_day_ive = funds_return[\"VL-IVE\"][-1]\n",
    "last_day_ive"
   ]
  },
  {
   "cell_type": "code",
   "execution_count": 60,
   "metadata": {},
   "outputs": [
    {
     "data": {
      "text/plain": [
       "-0.0009602008789787453"
      ]
     },
     "execution_count": 60,
     "metadata": {},
     "output_type": "execute_result"
    }
   ],
   "source": [
    "last_day_ivw = funds_return[\"GR-IVW\"][-1]\n",
    "last_day_ivw"
   ]
  },
  {
   "cell_type": "code",
   "execution_count": 61,
   "metadata": {},
   "outputs": [
    {
     "data": {
      "text/plain": [
       "-0.0007716092328519109"
      ]
     },
     "execution_count": 61,
     "metadata": {},
     "output_type": "execute_result"
    }
   ],
   "source": [
    "last_day_mtum = funds_return[\"MT-MTUM\"][-1]\n",
    "last_day_mtum"
   ]
  },
  {
   "cell_type": "code",
   "execution_count": 62,
   "metadata": {},
   "outputs": [
    {
     "data": {
      "text/plain": [
       "-0.00048061371893304283"
      ]
     },
     "execution_count": 62,
     "metadata": {},
     "output_type": "execute_result"
    }
   ],
   "source": [
    "last_day_qual = funds_return[\"QL-QUAL\"][-1]\n",
    "last_day_qual"
   ]
  },
  {
   "cell_type": "code",
   "execution_count": 63,
   "metadata": {},
   "outputs": [
    {
     "data": {
      "text/plain": [
       "0.0009461347276280563"
      ]
     },
     "execution_count": 63,
     "metadata": {},
     "output_type": "execute_result"
    }
   ],
   "source": [
    "last_day_size = funds_return[\"SC-SIZE\"][-1]\n",
    "last_day_size"
   ]
  },
  {
   "cell_type": "code",
   "execution_count": 64,
   "metadata": {},
   "outputs": [
    {
     "data": {
      "text/plain": [
       "2.9717560858788516e-05"
      ]
     },
     "execution_count": 64,
     "metadata": {},
     "output_type": "execute_result"
    }
   ],
   "source": [
    "last_day_spy = funds_return[\"SPY\"][-1]\n",
    "last_day_spy"
   ]
  },
  {
   "cell_type": "code",
   "execution_count": 65,
   "metadata": {},
   "outputs": [
    {
     "data": {
      "text/plain": [
       "0.00015579652189900983"
      ]
     },
     "execution_count": 65,
     "metadata": {},
     "output_type": "execute_result"
    }
   ],
   "source": [
    "last_day_usmv = funds_return[\"LV-USMV\"][-1]\n",
    "last_day_usmv"
   ]
  },
  {
   "cell_type": "code",
   "execution_count": 66,
   "metadata": {},
   "outputs": [],
   "source": [
    "# Setup the Monte Carlo Parameters\n",
    "number_simulations = 500\n",
    "number_records = 252 * 30\n",
    "monte_carlo = pd.DataFrame()\n",
    "simulated_price_df= pd.DataFrame()\n",
    "portfolio_cumulative_returns= pd.DataFrame()"
   ]
  },
  {
   "cell_type": "code",
   "execution_count": 67,
   "metadata": {},
   "outputs": [],
   "source": [
    "# Setup the Monte Carlo Parameters\n",
    "number_simulations = 500\n",
    "number_records = 252 * 30\n",
    "monte_carlo = pd.DataFrame()\n",
    "simulated_price_df= pd.DataFrame()\n",
    "portfolio_cumulative_returns= pd.DataFrame()"
   ]
  },
  {
   "cell_type": "code",
   "execution_count": 68,
   "metadata": {},
   "outputs": [],
   "source": [
    "# Run the Monte Carlo Simulation\n",
    "for simulations in range(number_simulations):\n",
    "    simulated_fdl_prices=[last_day_fdl]\n",
    "    simulated_ive_prices=[last_day_ive]\n",
    "    simulated_ivw_prices=[last_day_ivw]\n",
    "    simulated_mtum_prices=[last_day_mtum]\n",
    "    simulated_qual_prices=[last_day_qual]\n",
    "    simulated_size_prices=[last_day_size]    \n",
    "    simulated_spy_prices=[last_day_spy]\n",
    "    simulated_usmv_prices=[last_day_usmv]\n",
    "    \n",
    "    for days in range(number_records):\n",
    "        simulated_fdl_price=simulated_fdl_prices[-1]*(1+np.random.normal(abs(funds_daily_return_fdl),abs(funds_return_vol_fdl)))\n",
    "        simulated_ive_price =simulated_ive_prices[-1]*(1+np.random.normal(abs(funds_daily_return_ive),abs(funds_return_vol_ive)))\n",
    "        simulated_ivw_price =simulated_ivw_prices[-1]*(1+np.random.normal(abs(funds_daily_return_ivw),abs(funds_return_vol_ivw)))\n",
    "        simulated_mtum_price=simulated_mtum_prices[-1]*(1+np.random.normal(abs(funds_daily_return_mtum),abs(funds_return_vol_mtum)))\n",
    "        simulated_qual_price=simulated_qual_prices[-1]*(1+np.random.normal(abs(funds_daily_return_qual),abs(funds_return_vol_qual)))\n",
    "        simulated_size_price=simulated_size_prices[-1]*(1+np.random.normal(abs(funds_daily_return_size),abs(funds_return_vol_size)))\n",
    "        simulated_spy_price =simulated_spy_prices[-1]*(1+np.random.normal(abs(funds_daily_return_spy),abs(funds_return_vol_spy)))\n",
    "        simulated_usmv_price=simulated_usmv_prices[-1]*(1+np.random.normal(abs(funds_daily_return_usmv),abs(funds_return_vol_usmv)))  \n",
    "        \n",
    "        \n",
    "        simulated_fdl_prices.append(simulated_fdl_price)\n",
    "        simulated_ive_prices.append(simulated_ive_price)\n",
    "        simulated_ivw_prices.append(simulated_ivw_price)\n",
    "        simulated_mtum_prices.append(simulated_mtum_price)\n",
    "        simulated_qual_prices.append(simulated_qual_price)\n",
    "        simulated_size_prices.append(simulated_size_price)   \n",
    "        simulated_spy_prices.append(simulated_spy_price)\n",
    "        simulated_usmv_prices.append(simulated_usmv_price)\n",
    "        \n",
    "     \n",
    "        \n",
    "    simulated_price_df[\"HD-FDL\"]=simulated_fdl_prices\n",
    "    simulated_price_df[\"VL-IVE\"]=simulated_ive_prices\n",
    "    simulated_price_df[\"GR-IVW\"]=simulated_ivw_prices\n",
    "    simulated_price_df[\"MT-MTUM\"]=simulated_mtum_prices\n",
    "    simulated_price_df[\"QL-QUAL\"]=simulated_qual_prices\n",
    "    simulated_price_df[\"SC-SIZE\"]=simulated_size_prices\n",
    "    simulated_price_df[\"SPY\"]= simulated_spy_prices\n",
    "    simulated_price_df[\"LV-USMV\"]=simulated_usmv_prices\n",
    "    \n",
    "    simulated_daily_returns=simulated_price_df.pct_change()\n",
    "    weights=[0.05,0.05,0.2,0.2,0.15,0.5,0.15,0.15,]\n",
    "    portfolio_daily_returns=simulated_daily_returns.dot(weights)\n",
    "    portfolio_cumulative_returns[simulations]= (1+portfolio_daily_returns.fillna(0)).cumprod()\n",
    "   "
   ]
  },
  {
   "cell_type": "code",
   "execution_count": 69,
   "metadata": {},
   "outputs": [
    {
     "data": {
      "text/plain": [
       "7561"
      ]
     },
     "execution_count": 69,
     "metadata": {},
     "output_type": "execute_result"
    }
   ],
   "source": [
    "len(simulated_ivw_prices)"
   ]
  },
  {
   "cell_type": "code",
   "execution_count": 70,
   "metadata": {},
   "outputs": [
    {
     "data": {
      "text/plain": [
       "0.010819910482372973"
      ]
     },
     "execution_count": 70,
     "metadata": {},
     "output_type": "execute_result"
    }
   ],
   "source": [
    "abs(funds_return_vol_spy)"
   ]
  },
  {
   "cell_type": "code",
   "execution_count": 71,
   "metadata": {},
   "outputs": [
    {
     "data": {
      "text/html": [
       "<div>\n",
       "<style scoped>\n",
       "    .dataframe tbody tr th:only-of-type {\n",
       "        vertical-align: middle;\n",
       "    }\n",
       "\n",
       "    .dataframe tbody tr th {\n",
       "        vertical-align: top;\n",
       "    }\n",
       "\n",
       "    .dataframe thead th {\n",
       "        text-align: right;\n",
       "    }\n",
       "</style>\n",
       "<table border=\"1\" class=\"dataframe\">\n",
       "  <thead>\n",
       "    <tr style=\"text-align: right;\">\n",
       "      <th></th>\n",
       "      <th>HD-FDL</th>\n",
       "      <th>VL-IVE</th>\n",
       "      <th>GR-IVW</th>\n",
       "      <th>MT-MTUM</th>\n",
       "      <th>QL-QUAL</th>\n",
       "      <th>SC-SIZE</th>\n",
       "      <th>SPY</th>\n",
       "      <th>LV-USMV</th>\n",
       "    </tr>\n",
       "  </thead>\n",
       "  <tbody>\n",
       "    <tr>\n",
       "      <th>0</th>\n",
       "      <td>0.001473</td>\n",
       "      <td>0.002589</td>\n",
       "      <td>-0.000960</td>\n",
       "      <td>-0.000772</td>\n",
       "      <td>-0.000481</td>\n",
       "      <td>0.000946</td>\n",
       "      <td>0.000030</td>\n",
       "      <td>0.000156</td>\n",
       "    </tr>\n",
       "    <tr>\n",
       "      <th>1</th>\n",
       "      <td>0.001474</td>\n",
       "      <td>0.002601</td>\n",
       "      <td>-0.000971</td>\n",
       "      <td>-0.000783</td>\n",
       "      <td>-0.000491</td>\n",
       "      <td>0.000941</td>\n",
       "      <td>0.000029</td>\n",
       "      <td>0.000157</td>\n",
       "    </tr>\n",
       "    <tr>\n",
       "      <th>2</th>\n",
       "      <td>0.001472</td>\n",
       "      <td>0.002621</td>\n",
       "      <td>-0.000979</td>\n",
       "      <td>-0.000769</td>\n",
       "      <td>-0.000490</td>\n",
       "      <td>0.000950</td>\n",
       "      <td>0.000029</td>\n",
       "      <td>0.000159</td>\n",
       "    </tr>\n",
       "    <tr>\n",
       "      <th>3</th>\n",
       "      <td>0.001501</td>\n",
       "      <td>0.002624</td>\n",
       "      <td>-0.000972</td>\n",
       "      <td>-0.000776</td>\n",
       "      <td>-0.000500</td>\n",
       "      <td>0.000953</td>\n",
       "      <td>0.000030</td>\n",
       "      <td>0.000160</td>\n",
       "    </tr>\n",
       "    <tr>\n",
       "      <th>4</th>\n",
       "      <td>0.001494</td>\n",
       "      <td>0.002602</td>\n",
       "      <td>-0.000955</td>\n",
       "      <td>-0.000762</td>\n",
       "      <td>-0.000496</td>\n",
       "      <td>0.000943</td>\n",
       "      <td>0.000030</td>\n",
       "      <td>0.000163</td>\n",
       "    </tr>\n",
       "  </tbody>\n",
       "</table>\n",
       "</div>"
      ],
      "text/plain": [
       "     HD-FDL    VL-IVE    GR-IVW   MT-MTUM   QL-QUAL   SC-SIZE       SPY  \\\n",
       "0  0.001473  0.002589 -0.000960 -0.000772 -0.000481  0.000946  0.000030   \n",
       "1  0.001474  0.002601 -0.000971 -0.000783 -0.000491  0.000941  0.000029   \n",
       "2  0.001472  0.002621 -0.000979 -0.000769 -0.000490  0.000950  0.000029   \n",
       "3  0.001501  0.002624 -0.000972 -0.000776 -0.000500  0.000953  0.000030   \n",
       "4  0.001494  0.002602 -0.000955 -0.000762 -0.000496  0.000943  0.000030   \n",
       "\n",
       "    LV-USMV  \n",
       "0  0.000156  \n",
       "1  0.000157  \n",
       "2  0.000159  \n",
       "3  0.000160  \n",
       "4  0.000163  "
      ]
     },
     "execution_count": 71,
     "metadata": {},
     "output_type": "execute_result"
    }
   ],
   "source": [
    "# Check that the simulation ran successfully\n",
    "simulated_price_df.head()"
   ]
  },
  {
   "cell_type": "code",
   "execution_count": 72,
   "metadata": {},
   "outputs": [
    {
     "data": {
      "text/html": [
       "<div>\n",
       "<style scoped>\n",
       "    .dataframe tbody tr th:only-of-type {\n",
       "        vertical-align: middle;\n",
       "    }\n",
       "\n",
       "    .dataframe tbody tr th {\n",
       "        vertical-align: top;\n",
       "    }\n",
       "\n",
       "    .dataframe thead th {\n",
       "        text-align: right;\n",
       "    }\n",
       "</style>\n",
       "<table border=\"1\" class=\"dataframe\">\n",
       "  <thead>\n",
       "    <tr style=\"text-align: right;\">\n",
       "      <th></th>\n",
       "      <th>0</th>\n",
       "      <th>1</th>\n",
       "      <th>2</th>\n",
       "      <th>3</th>\n",
       "      <th>4</th>\n",
       "      <th>5</th>\n",
       "      <th>6</th>\n",
       "      <th>7</th>\n",
       "      <th>8</th>\n",
       "      <th>9</th>\n",
       "      <th>...</th>\n",
       "      <th>490</th>\n",
       "      <th>491</th>\n",
       "      <th>492</th>\n",
       "      <th>493</th>\n",
       "      <th>494</th>\n",
       "      <th>495</th>\n",
       "      <th>496</th>\n",
       "      <th>497</th>\n",
       "      <th>498</th>\n",
       "      <th>499</th>\n",
       "    </tr>\n",
       "  </thead>\n",
       "  <tbody>\n",
       "    <tr>\n",
       "      <th>7556</th>\n",
       "      <td>2.071755e+06</td>\n",
       "      <td>2.167020e+06</td>\n",
       "      <td>5.781137e+06</td>\n",
       "      <td>1.927511e+06</td>\n",
       "      <td>1.166558e+06</td>\n",
       "      <td>1.208245e+06</td>\n",
       "      <td>5.030643e+06</td>\n",
       "      <td>6.439660e+06</td>\n",
       "      <td>1.752737e+06</td>\n",
       "      <td>4.455409e+06</td>\n",
       "      <td>...</td>\n",
       "      <td>1.464341e+06</td>\n",
       "      <td>3.260824e+06</td>\n",
       "      <td>5.013975e+06</td>\n",
       "      <td>2.852384e+06</td>\n",
       "      <td>748381.358259</td>\n",
       "      <td>2.343838e+06</td>\n",
       "      <td>5.336469e+06</td>\n",
       "      <td>3.071127e+06</td>\n",
       "      <td>5.027605e+06</td>\n",
       "      <td>5.611248e+06</td>\n",
       "    </tr>\n",
       "    <tr>\n",
       "      <th>7557</th>\n",
       "      <td>2.086352e+06</td>\n",
       "      <td>2.173520e+06</td>\n",
       "      <td>5.769140e+06</td>\n",
       "      <td>1.921052e+06</td>\n",
       "      <td>1.161531e+06</td>\n",
       "      <td>1.216163e+06</td>\n",
       "      <td>5.036504e+06</td>\n",
       "      <td>6.480531e+06</td>\n",
       "      <td>1.744886e+06</td>\n",
       "      <td>4.451726e+06</td>\n",
       "      <td>...</td>\n",
       "      <td>1.454467e+06</td>\n",
       "      <td>3.290096e+06</td>\n",
       "      <td>5.011037e+06</td>\n",
       "      <td>2.818029e+06</td>\n",
       "      <td>744185.119788</td>\n",
       "      <td>2.368312e+06</td>\n",
       "      <td>5.324907e+06</td>\n",
       "      <td>3.092712e+06</td>\n",
       "      <td>5.059692e+06</td>\n",
       "      <td>5.593262e+06</td>\n",
       "    </tr>\n",
       "    <tr>\n",
       "      <th>7558</th>\n",
       "      <td>2.071209e+06</td>\n",
       "      <td>2.210864e+06</td>\n",
       "      <td>5.709464e+06</td>\n",
       "      <td>1.925462e+06</td>\n",
       "      <td>1.168658e+06</td>\n",
       "      <td>1.229418e+06</td>\n",
       "      <td>5.100031e+06</td>\n",
       "      <td>6.490108e+06</td>\n",
       "      <td>1.753893e+06</td>\n",
       "      <td>4.425798e+06</td>\n",
       "      <td>...</td>\n",
       "      <td>1.452733e+06</td>\n",
       "      <td>3.330223e+06</td>\n",
       "      <td>4.986304e+06</td>\n",
       "      <td>2.830964e+06</td>\n",
       "      <td>741585.112512</td>\n",
       "      <td>2.367832e+06</td>\n",
       "      <td>5.319719e+06</td>\n",
       "      <td>3.083450e+06</td>\n",
       "      <td>5.080534e+06</td>\n",
       "      <td>5.560701e+06</td>\n",
       "    </tr>\n",
       "    <tr>\n",
       "      <th>7559</th>\n",
       "      <td>2.056499e+06</td>\n",
       "      <td>2.219776e+06</td>\n",
       "      <td>5.759053e+06</td>\n",
       "      <td>1.933488e+06</td>\n",
       "      <td>1.168839e+06</td>\n",
       "      <td>1.223500e+06</td>\n",
       "      <td>5.091841e+06</td>\n",
       "      <td>6.512654e+06</td>\n",
       "      <td>1.761476e+06</td>\n",
       "      <td>4.454596e+06</td>\n",
       "      <td>...</td>\n",
       "      <td>1.480373e+06</td>\n",
       "      <td>3.342994e+06</td>\n",
       "      <td>4.966061e+06</td>\n",
       "      <td>2.860345e+06</td>\n",
       "      <td>748834.061591</td>\n",
       "      <td>2.370136e+06</td>\n",
       "      <td>5.369947e+06</td>\n",
       "      <td>3.111853e+06</td>\n",
       "      <td>5.111715e+06</td>\n",
       "      <td>5.526466e+06</td>\n",
       "    </tr>\n",
       "    <tr>\n",
       "      <th>7560</th>\n",
       "      <td>2.066627e+06</td>\n",
       "      <td>2.220872e+06</td>\n",
       "      <td>5.731057e+06</td>\n",
       "      <td>1.933819e+06</td>\n",
       "      <td>1.176692e+06</td>\n",
       "      <td>1.213376e+06</td>\n",
       "      <td>5.042858e+06</td>\n",
       "      <td>6.538185e+06</td>\n",
       "      <td>1.775366e+06</td>\n",
       "      <td>4.468792e+06</td>\n",
       "      <td>...</td>\n",
       "      <td>1.482559e+06</td>\n",
       "      <td>3.350804e+06</td>\n",
       "      <td>4.976340e+06</td>\n",
       "      <td>2.847820e+06</td>\n",
       "      <td>751592.730251</td>\n",
       "      <td>2.383323e+06</td>\n",
       "      <td>5.364951e+06</td>\n",
       "      <td>3.104433e+06</td>\n",
       "      <td>5.106886e+06</td>\n",
       "      <td>5.468274e+06</td>\n",
       "    </tr>\n",
       "  </tbody>\n",
       "</table>\n",
       "<p>5 rows × 500 columns</p>\n",
       "</div>"
      ],
      "text/plain": [
       "               0             1             2             3             4    \\\n",
       "7556  2.071755e+06  2.167020e+06  5.781137e+06  1.927511e+06  1.166558e+06   \n",
       "7557  2.086352e+06  2.173520e+06  5.769140e+06  1.921052e+06  1.161531e+06   \n",
       "7558  2.071209e+06  2.210864e+06  5.709464e+06  1.925462e+06  1.168658e+06   \n",
       "7559  2.056499e+06  2.219776e+06  5.759053e+06  1.933488e+06  1.168839e+06   \n",
       "7560  2.066627e+06  2.220872e+06  5.731057e+06  1.933819e+06  1.176692e+06   \n",
       "\n",
       "               5             6             7             8             9    \\\n",
       "7556  1.208245e+06  5.030643e+06  6.439660e+06  1.752737e+06  4.455409e+06   \n",
       "7557  1.216163e+06  5.036504e+06  6.480531e+06  1.744886e+06  4.451726e+06   \n",
       "7558  1.229418e+06  5.100031e+06  6.490108e+06  1.753893e+06  4.425798e+06   \n",
       "7559  1.223500e+06  5.091841e+06  6.512654e+06  1.761476e+06  4.454596e+06   \n",
       "7560  1.213376e+06  5.042858e+06  6.538185e+06  1.775366e+06  4.468792e+06   \n",
       "\n",
       "      ...           490           491           492           493  \\\n",
       "7556  ...  1.464341e+06  3.260824e+06  5.013975e+06  2.852384e+06   \n",
       "7557  ...  1.454467e+06  3.290096e+06  5.011037e+06  2.818029e+06   \n",
       "7558  ...  1.452733e+06  3.330223e+06  4.986304e+06  2.830964e+06   \n",
       "7559  ...  1.480373e+06  3.342994e+06  4.966061e+06  2.860345e+06   \n",
       "7560  ...  1.482559e+06  3.350804e+06  4.976340e+06  2.847820e+06   \n",
       "\n",
       "                494           495           496           497           498  \\\n",
       "7556  748381.358259  2.343838e+06  5.336469e+06  3.071127e+06  5.027605e+06   \n",
       "7557  744185.119788  2.368312e+06  5.324907e+06  3.092712e+06  5.059692e+06   \n",
       "7558  741585.112512  2.367832e+06  5.319719e+06  3.083450e+06  5.080534e+06   \n",
       "7559  748834.061591  2.370136e+06  5.369947e+06  3.111853e+06  5.111715e+06   \n",
       "7560  751592.730251  2.383323e+06  5.364951e+06  3.104433e+06  5.106886e+06   \n",
       "\n",
       "               499  \n",
       "7556  5.611248e+06  \n",
       "7557  5.593262e+06  \n",
       "7558  5.560701e+06  \n",
       "7559  5.526466e+06  \n",
       "7560  5.468274e+06  \n",
       "\n",
       "[5 rows x 500 columns]"
      ]
     },
     "execution_count": 72,
     "metadata": {},
     "output_type": "execute_result"
    }
   ],
   "source": [
    "portfolio_cumulative_returns.tail()"
   ]
  },
  {
   "cell_type": "code",
   "execution_count": 73,
   "metadata": {},
   "outputs": [
    {
     "data": {
      "text/plain": [
       "<matplotlib.axes._subplots.AxesSubplot at 0x144b35c4348>"
      ]
     },
     "execution_count": 73,
     "metadata": {},
     "output_type": "execute_result"
    },
    {
     "data": {
      "image/png": "[encoded data removed]",
      "text/plain": [
       "<Figure size 432x288 with 1 Axes>"
      ]
     },
     "metadata": {
      "needs_background": "light"
     },
     "output_type": "display_data"
    }
   ],
   "source": [
    "# Visualize the Simulation\n",
    "plot_title=f\"{number_simulations} Simulations of Portfolio Returns over {number_records} Trading Days in 30 Years\"\n",
    "portfolio_cumulative_returns.plot(legend=None,title=plot_title)"
   ]
  },
  {
   "cell_type": "code",
   "execution_count": 74,
   "metadata": {},
   "outputs": [
    {
     "data": {
      "text/plain": [
       "<matplotlib.axes._subplots.AxesSubplot at 0x144b5841dc8>"
      ]
     },
     "execution_count": 74,
     "metadata": {},
     "output_type": "execute_result"
    },
    {
     "data": {
      "image/png": "[encoded data removed]",
      "text/plain": [
       "<Figure size 432x288 with 1 Axes>"
      ]
     },
     "metadata": {
      "needs_background": "light"
     },
     "output_type": "display_data"
    }
   ],
   "source": [
    "plot_title2=f\"{number_simulations} Simulations for Closing Prices over {number_records} Trading Days in 30 Years\"\n",
    "simulated_price_df.plot(title=plot_title2)"
   ]
  },
  {
   "cell_type": "code",
   "execution_count": 75,
   "metadata": {},
   "outputs": [
    {
     "data": {
      "text/html": [
       "<div>\n",
       "<style scoped>\n",
       "    .dataframe tbody tr th:only-of-type {\n",
       "        vertical-align: middle;\n",
       "    }\n",
       "\n",
       "    .dataframe tbody tr th {\n",
       "        vertical-align: top;\n",
       "    }\n",
       "\n",
       "    .dataframe thead th {\n",
       "        text-align: right;\n",
       "    }\n",
       "</style>\n",
       "<table border=\"1\" class=\"dataframe\">\n",
       "  <thead>\n",
       "    <tr style=\"text-align: right;\">\n",
       "      <th></th>\n",
       "      <th>HD-FDL</th>\n",
       "      <th>VL-IVE</th>\n",
       "      <th>GR-IVW</th>\n",
       "      <th>MT-MTUM</th>\n",
       "      <th>QL-QUAL</th>\n",
       "      <th>SC-SIZE</th>\n",
       "      <th>SPY</th>\n",
       "      <th>LV-USMV</th>\n",
       "    </tr>\n",
       "  </thead>\n",
       "  <tbody>\n",
       "    <tr>\n",
       "      <th>7560</th>\n",
       "      <td>0.007946</td>\n",
       "      <td>0.013106</td>\n",
       "      <td>-0.043493</td>\n",
       "      <td>-0.044379</td>\n",
       "      <td>-0.004341</td>\n",
       "      <td>0.052707</td>\n",
       "      <td>0.00024</td>\n",
       "      <td>8.490351e+26</td>\n",
       "    </tr>\n",
       "  </tbody>\n",
       "</table>\n",
       "</div>"
      ],
      "text/plain": [
       "        HD-FDL    VL-IVE    GR-IVW   MT-MTUM   QL-QUAL   SC-SIZE      SPY  \\\n",
       "7560  0.007946  0.013106 -0.043493 -0.044379 -0.004341  0.052707  0.00024   \n",
       "\n",
       "           LV-USMV  \n",
       "7560  8.490351e+26  "
      ]
     },
     "execution_count": 75,
     "metadata": {},
     "output_type": "execute_result"
    }
   ],
   "source": [
    "# last row for the cumulative returns\n",
    "simulated_price_df[-1:]"
   ]
  },
  {
   "cell_type": "code",
   "execution_count": 76,
   "metadata": {},
   "outputs": [
    {
     "data": {
      "text/plain": [
       "0      2.066627e+06\n",
       "1      2.220872e+06\n",
       "2      5.731057e+06\n",
       "3      1.933819e+06\n",
       "4      1.176692e+06\n",
       "           ...     \n",
       "495    2.383323e+06\n",
       "496    5.364951e+06\n",
       "497    3.104433e+06\n",
       "498    5.106886e+06\n",
       "499    5.468274e+06\n",
       "Name: 7560, Length: 500, dtype: float64"
      ]
     },
     "execution_count": 76,
     "metadata": {},
     "output_type": "execute_result"
    }
   ],
   "source": [
    "cumulative_ret = portfolio_cumulative_returns.iloc[-1,:]\n",
    "cumulative_ret"
   ]
  },
  {
   "cell_type": "code",
   "execution_count": 77,
   "metadata": {},
   "outputs": [
    {
     "data": {
      "text/plain": [
       "0.05    1.287321e+06\n",
       "0.95    9.079235e+06\n",
       "Name: 7560, dtype: float64"
      ]
     },
     "execution_count": 77,
     "metadata": {},
     "output_type": "execute_result"
    }
   ],
   "source": [
    "# Display the 90% confidence interval for the ending returns\n",
    "confidence_interval= cumulative_ret.quantile(q=[0.05,0.95])\n",
    "confidence_interval"
   ]
  },
  {
   "cell_type": "code",
   "execution_count": 78,
   "metadata": {},
   "outputs": [
    {
     "data": {
      "text/plain": [
       "<matplotlib.lines.Line2D at 0x144b588eb88>"
      ]
     },
     "execution_count": 78,
     "metadata": {},
     "output_type": "execute_result"
    },
    {
     "data": {
      "image/png": "[encoded data removed]",
      "text/plain": [
       "<Figure size 432x288 with 1 Axes>"
      ]
     },
     "metadata": {
      "needs_background": "light"
     },
     "output_type": "display_data"
    }
   ],
   "source": [
    "# Visualize the distribution of the ending returns\n",
    "cumulative_ret.plot.hist(legend=True,bins=50, title=\"Simulated Ending Cumulative Returns With 90% Confidence Intervals\")\n",
    "plt.axvline(confidence_interval.iloc[0],color='r')\n",
    "plt.axvline(confidence_interval.iloc[1],color='r')"
   ]
  },
  {
   "cell_type": "markdown",
   "metadata": {},
   "source": [
    "## Optimization"
   ]
  },
  {
   "cell_type": "markdown",
   "metadata": {},
   "source": [
    "## Risk/Return Analysis of the Optimal Portfolio"
   ]
  },
  {
   "cell_type": "markdown",
   "metadata": {},
   "source": [
    "# 5. Data Insights/Reporting"
   ]
  },
  {
   "cell_type": "markdown",
   "metadata": {},
   "source": [
    "## Tab 1: Passive vs Active Portfolios Performance"
   ]
  },
  {
   "cell_type": "markdown",
   "metadata": {},
   "source": [
    "## Tab 2: Suggested Optimal Allocation"
   ]
  },
  {
   "cell_type": "code",
   "execution_count": null,
   "metadata": {},
   "outputs": [],
   "source": []
  }
 ],
 "metadata": {
  "kernelspec": {
   "display_name": "Python 3",
   "language": "python",
   "name": "python3"
  },
  "language_info": {
   "codemirror_mode": {
    "name": "ipython",
    "version": 3
   },
   "file_extension": ".py",
   "mimetype": "text/x-python",
   "name": "python",
   "nbconvert_exporter": "python",
   "pygments_lexer": "ipython3",
   "version": "3.7.6"
  }
 },
 "nbformat": 4,
 "nbformat_minor": 4
}
