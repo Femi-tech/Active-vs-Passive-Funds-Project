{
 "cells": [
  {
   "cell_type": "markdown",
   "metadata": {},
   "source": [
    "# Import Libraries"
   ]
  },
  {
   "cell_type": "markdown",
   "metadata": {},
   "source": [
    "# Variables Declaration"
   ]
  },
  {
   "cell_type": "markdown",
   "metadata": {},
   "source": [
    "# 1. User Input"
   ]
  },
  {
   "cell_type": "markdown",
   "metadata": {},
   "source": [
    "## Select Investment Style (Conservative/Moderate/Agressive)"
   ]
  },
  {
   "cell_type": "markdown",
   "metadata": {},
   "source": [
    "# 2. Data Access and Cleaning"
   ]
  },
  {
   "cell_type": "markdown",
   "metadata": {},
   "source": [
    "## Qualdl API"
   ]
  },
  {
   "cell_type": "markdown",
   "metadata": {},
   "source": [
    "# 3. Predetermine Portfolios and Backtesting"
   ]
  },
  {
   "cell_type": "markdown",
   "metadata": {},
   "source": [
    "## Historical Risk/Return"
   ]
  },
  {
   "cell_type": "raw",
   "metadata": {},
   "source": []
  },
  {
   "cell_type": "markdown",
   "metadata": {},
   "source": [
    "# 4. Simulated Return"
   ]
  },
  {
   "cell_type": "markdown",
   "metadata": {},
   "source": [
    "## Monte Carlo Simulations for Portfolio 1 (Conservative)"
   ]
  },
  {
   "cell_type": "code",
   "execution_count": 2,
   "metadata": {},
   "outputs": [],
   "source": [
    "# Calculate the daily roi for the stocks\n",
    "# Compute daily roi volatility\n",
    "# Compute daily roi average\n",
    "# Save the last day's closing price\n",
    "# Setup the Monte Carlo Parameters\n",
    "# Run the Monte Carlo Simulation\n",
    "# Check that the simulation ran successfully\n",
    "# Visualize the Simulation\n",
    "# last row for the cumulative returns \n",
    "# Display the 90% confidence interval for the ending returns\n",
    "# Visualize the distribution of the ending returns\n",
    "# Plot the cumulative returns over time"
   ]
  },
  {
   "cell_type": "markdown",
   "metadata": {},
   "source": [
    "## Monte Carlo Simulations for Portfolio 2 (Moderate)"
   ]
  },
  {
   "cell_type": "code",
   "execution_count": null,
   "metadata": {},
   "outputs": [],
   "source": [
    "# Calculate the daily roi for the stocks\n",
    "# Compute daily roi volatility\n",
    "# Compute daily roi average\n",
    "# Save the last day's closing price\n",
    "# Setup the Monte Carlo Parameters\n",
    "# Run the Monte Carlo Simulation\n",
    "# Check that the simulation ran successfully\n",
    "# Visualize the Simulation\n",
    "# last row for the cumulative returns \n",
    "# Display the 90% confidence interval for the ending returns\n",
    "# Visualize the distribution of the ending returns\n",
    "# Plot the cumulative returns over time"
   ]
  },
  {
   "cell_type": "markdown",
   "metadata": {},
   "source": [
    "## Monte Carlo Simulations for Portfolio 3 (Agressive)"
   ]
  },
  {
   "cell_type": "code",
   "execution_count": null,
   "metadata": {},
   "outputs": [],
   "source": [
    "# Calculate the daily roi for the stocks\n",
    "# Compute daily roi volatility\n",
    "# Compute daily roi average\n",
    "# Save the last day's closing price\n",
    "# Setup the Monte Carlo Parameters\n",
    "# Run the Monte Carlo Simulation\n",
    "# Check that the simulation ran successfully\n",
    "# Visualize the Simulation\n",
    "# last row for the cumulative returns \n",
    "# Display the 90% confidence interval for the ending returns\n",
    "# Visualize the distribution of the ending returns\n",
    "# Plot the cumulative returns over time"
   ]
  },
  {
   "cell_type": "markdown",
   "metadata": {},
   "source": [
    "# 5. Data Insights/Reporting"
   ]
  },
  {
   "cell_type": "markdown",
   "metadata": {},
   "source": [
    "## Tab 1: Historical performance"
   ]
  },
  {
   "cell_type": "markdown",
   "metadata": {},
   "source": [
    "## Tab 2: Projected Return"
   ]
  },
  {
   "cell_type": "code",
   "execution_count": null,
   "metadata": {},
   "outputs": [],
   "source": []
  }
 ],
 "metadata": {
  "kernelspec": {
   "display_name": "Python 3",
   "language": "python",
   "name": "python3"
  },
  "language_info": {
   "codemirror_mode": {
    "name": "ipython",
    "version": 3
   },
   "file_extension": ".py",
   "mimetype": "text/x-python",
   "name": "python",
   "nbconvert_exporter": "python",
   "pygments_lexer": "ipython3",
   "version": "3.7.8"
  }
 },
 "nbformat": 4,
 "nbformat_minor": 4
}
